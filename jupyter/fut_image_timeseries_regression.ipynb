{
 "cells": [
  {
   "cell_type": "code",
   "execution_count": 101,
   "metadata": {},
   "outputs": [
    {
     "name": "stdout",
     "output_type": "stream",
     "text": [
      "The autoreload extension is already loaded. To reload it, use:\n",
      "  %reload_ext autoreload\n",
      "Num GPUs Available: 1\n",
      "Name: /physical_device:GPU:0, Type: GPU\n"
     ]
    }
   ],
   "source": [
    "%load_ext autoreload\n",
    "%autoreload 2\n",
    "\n",
    "from __future__ import annotations\n",
    "\n",
    "# Add parent directory to path.\n",
    "from pathlib import Path\n",
    "import os\n",
    "import sys\n",
    "os.environ['TF_CPP_MIN_LOG_LEVEL'] = '2' # https://stackoverflow.com/a/64438413\n",
    "fdir = Path(os.path.abspath('')).resolve() # Directory of current file.\n",
    "path = fdir/'..'\n",
    "if path not in sys.path:\n",
    "    sys.path.append(str(path))\n",
    "\n",
    "# Complete imports.\n",
    "import datetime as dt\n",
    "from functools import partial\n",
    "import makassar_ml as ml\n",
    "import matplotlib.pyplot as plt\n",
    "import numpy as np\n",
    "import pandas as pd\n",
    "import tensorflow as tf\n",
    "import tensorflow.keras as keras\n",
    "import tensorflow_datasets as tfds\n",
    "import seaborn as sns\n",
    "from sklearn.model_selection import ParameterGrid\n",
    "sns.set() # Use seaborn themes.\n",
    "\n",
    "# List all GPUs visible to TensorFlow.\n",
    "gpus = tf.config.list_physical_devices('GPU')\n",
    "print(f\"Num GPUs Available: {len(gpus)}\")\n",
    "for gpu in gpus:\n",
    "    print(f\"Name: {gpu.name}, Type: {gpu.device_type}\")"
   ]
  },
  {
   "cell_type": "code",
   "execution_count": 102,
   "metadata": {},
   "outputs": [],
   "source": [
    "keras.backend.clear_session()"
   ]
  },
  {
   "cell_type": "code",
   "execution_count": 103,
   "metadata": {},
   "outputs": [],
   "source": [
    "# Configure root paths.\n",
    "config_roots = dict(\n",
    "    hp_tuning_root=Path('~/research/makassar/hp_tuning').expanduser(),\n",
    ")"
   ]
  },
  {
   "cell_type": "code",
   "execution_count": 104,
   "metadata": {},
   "outputs": [],
   "source": [
    "epochs = 30\n",
    "batch_size = 256"
   ]
  },
  {
   "cell_type": "code",
   "execution_count": 105,
   "metadata": {},
   "outputs": [],
   "source": [
    "# df_timeseries = ml.datasets.beijingpm25.load_beijingpm25_df(\n",
    "#     path=str(Path('~/research/makassar/datasets/beijing_pm25').expanduser()),\n",
    "# )\n",
    "# df_timeseries.dropna(inplace=True) # Remove NaN.\n",
    "# df_timeseries['integer_index'] = range(len(df_timeseries.index))\n",
    "\n",
    "# end_date = dt.datetime.strptime('2013-04-03 10:00:00', '%Y-%m-%d %H:%M:%S')\n",
    "\n",
    "# df_timeseries = df_timeseries.set_index(['datetime','integer_index'])\n",
    "# df_timeseries.head()\n",
    "\n",
    "# idx_end = df_timeseries.loc[end_date].index.values[0]\n",
    "# idx_start = idx_end-3\n",
    "# # len(df_timeseries[idx_start:idx_end])\n",
    "\n",
    "# df_timeseries.reset_index(inplace=True)\n",
    "# df_timeseries.head()"
   ]
  },
  {
   "cell_type": "code",
   "execution_count": 106,
   "metadata": {},
   "outputs": [],
   "source": [
    "# Load the dataset.\n",
    "dataset_kwargs = dict(\n",
    "    timeseries_path=str(Path('~/research/makassar/datasets/beijing_pm25').expanduser()),\n",
    "    timeseries_datetime_column='datetime',\n",
    "    timeseries_features_in=['TEMP','DEWP','PRES','Iws'],\n",
    "    # timeseries_timedelta_dict_in=dict(hours=24),\n",
    "    timeseries_seq_len_in=24,\n",
    "    timeseries_features_out=['pm2.5','Ir'],\n",
    "    # timeseries_timedelta_dict_out=dict(hours=1),\n",
    "    timeseries_seq_len_out=1,\n",
    "    timeseries_reserve_offset_index_in=24,\n",
    "    timeseries_reserve_offset_index_out=1,\n",
    "    image_shape=[72,72,3],\n",
    "    split=['train[0%:70%]', 'train[70%:90%]', 'train[90%:]'],\n",
    "    shuffle_files=False,\n",
    ")\n",
    "dataset_train, dataset_val, dataset_test = ml.datasets.fused_plant_village_beijingpm25_regression.load_data(\n",
    "    **dataset_kwargs,\n",
    "    batch_size=batch_size,\n",
    ")\n",
    "n_batches = tf.data.experimental.cardinality(dataset_train)\n",
    "n_steps = n_batches*epochs"
   ]
  },
  {
   "cell_type": "code",
   "execution_count": 107,
   "metadata": {},
   "outputs": [
    {
     "name": "stdout",
     "output_type": "stream",
     "text": [
      "b_image.shape=TensorShape([256, 72, 72, 3])\n",
      "b_ts_in.shape=TensorShape([256, 24, 4])\n",
      "b_ts_out.shape=TensorShape([256, 1, 2])\n",
      "b_image.shape=TensorShape([256, 72, 72, 3])\n",
      "b_ts_in.shape=TensorShape([256, 24, 4])\n",
      "b_ts_out.shape=TensorShape([256, 1, 2])\n",
      "b_image.shape=TensorShape([256, 72, 72, 3])\n",
      "b_ts_in.shape=TensorShape([256, 24, 4])\n",
      "b_ts_out.shape=TensorShape([256, 1, 2])\n"
     ]
    }
   ],
   "source": [
    "for i,((b_image, b_ts_in), b_ts_out) in enumerate(dataset_train):\n",
    "    print(f\"{b_image.shape=}\")\n",
    "    print(f\"{b_ts_in.shape=}\")\n",
    "    print(f\"{b_ts_out.shape=}\")\n",
    "    break\n",
    "\n",
    "for i,((b_image, b_ts_in), b_ts_out) in enumerate(dataset_val):\n",
    "    print(f\"{b_image.shape=}\")\n",
    "    print(f\"{b_ts_in.shape=}\")\n",
    "    print(f\"{b_ts_out.shape=}\")\n",
    "    break\n",
    "\n",
    "for i,((b_image, b_ts_in), b_ts_out) in enumerate(dataset_test):\n",
    "    print(f\"{b_image.shape=}\")\n",
    "    print(f\"{b_ts_in.shape=}\")\n",
    "    print(f\"{b_ts_out.shape=}\")\n",
    "    break"
   ]
  },
  {
   "cell_type": "code",
   "execution_count": 108,
   "metadata": {},
   "outputs": [
    {
     "name": "stdout",
     "output_type": "stream",
     "text": [
      "epochs=30\n",
      "n_batches=<tf.Tensor: shape=(), dtype=int64, numpy=149>\n",
      "n_steps=<tf.Tensor: shape=(), dtype=int64, numpy=4470>\n"
     ]
    }
   ],
   "source": [
    "print(f\"{epochs=}\")\n",
    "print(f\"{n_batches=}\")\n",
    "print(f\"{n_steps=}\")"
   ]
  },
  {
   "cell_type": "code",
   "execution_count": 109,
   "metadata": {},
   "outputs": [
    {
     "name": "stdout",
     "output_type": "stream",
     "text": [
      "Model: \"model_2\"\n",
      "__________________________________________________________________________________________________\n",
      "Layer (type)                    Output Shape         Param #     Connected to                     \n",
      "==================================================================================================\n",
      "input_1 (InputLayer)            [(None, 72, 72, 3)]  0                                            \n",
      "__________________________________________________________________________________________________\n",
      "input_2 (InputLayer)            [(None, 24, 4)]      0                                            \n",
      "__________________________________________________________________________________________________\n",
      "patches (Patches)               (None, 144, 108)     0           input_1[0][0]                    \n",
      "__________________________________________________________________________________________________\n",
      "time2_vec (Time2Vec)            (None, 24, 20)       528         input_2[0][0]                    \n",
      "__________________________________________________________________________________________________\n",
      "patch_encoder (PatchEncoder)    (None, 144, 16)      4048        patches[0][0]                    \n",
      "__________________________________________________________________________________________________\n",
      "concatenate (Concatenate)       (None, 24, 24)       0           input_2[0][0]                    \n",
      "                                                                 time2_vec[0][0]                  \n",
      "__________________________________________________________________________________________________\n",
      "branch_0 (Sequential)           (None, 144, 16)      28848       patch_encoder[0][0]              \n",
      "__________________________________________________________________________________________________\n",
      "branch_1 (Sequential)           (None, 24, 24)       45192       concatenate[0][0]                \n",
      "__________________________________________________________________________________________________\n",
      "dense_1 (Dense)                 (None, 144, 10)      170         branch_0[0][0]                   \n",
      "__________________________________________________________________________________________________\n",
      "dense_2 (Dense)                 (None, 24, 10)       250         branch_1[0][0]                   \n",
      "__________________________________________________________________________________________________\n",
      "concatenate_1 (Concatenate)     (None, 168, 10)      0           dense_1[0][0]                    \n",
      "                                                                 dense_2[0][0]                    \n",
      "__________________________________________________________________________________________________\n",
      "flatten (Flatten)               (None, 1680)         0           concatenate_1[0][0]              \n",
      "__________________________________________________________________________________________________\n",
      "dense_3 (Dense)                 (None, 2)            3362        flatten[0][0]                    \n",
      "__________________________________________________________________________________________________\n",
      "reshape (Reshape)               (None, 1, 2)         0           dense_3[0][0]                    \n",
      "==================================================================================================\n",
      "Total params: 82,398\n",
      "Trainable params: 82,398\n",
      "Non-trainable params: 0\n",
      "__________________________________________________________________________________________________\n"
     ]
    }
   ],
   "source": [
    "# Build and compile the model.\n",
    "model = ml.models.FuT_image_timeseries_regression(\n",
    "    image_shape=dataset_kwargs['image_shape'],\n",
    "    in_seq_shape=(dataset_kwargs['timeseries_reserve_offset_index_in'],len(dataset_kwargs['timeseries_features_in'])),\n",
    "    out_seq_shape=(dataset_kwargs['timeseries_reserve_offset_index_out'],len(dataset_kwargs['timeseries_features_out'])),\n",
    "    patch_size=6,\n",
    "    image_embed_dim=16,\n",
    "    seq_embed_dim=5,\n",
    "    fusion_embed_dim=10,\n",
    "    n_heads=8,\n",
    "    ff_dim=256,\n",
    "    dropout=0.1,\n",
    "    n_encoders=3,\n",
    ")\n",
    "# optimizer = keras.optimizers.Adam(learning_rate=1e-3)\n",
    "# optimizer = keras.optimizers.Adam(\n",
    "#     keras.experimental.CosineDecayRestarts(\n",
    "#         initial_learning_rate=1e-3,\n",
    "#         first_decay_steps=1000,\n",
    "#         )\n",
    "# )\n",
    "learning_rate = keras.experimental.CosineDecay(\n",
    "    initial_learning_rate=1e-3,\n",
    "    decay_steps=n_steps,\n",
    "    alpha=0.1,\n",
    ")\n",
    "# learning_rate = keras.experimental.CosineDecayRestarts(\n",
    "#     initial_learning_rate=1e-3,\n",
    "#     first_decay_steps=n_steps//3,\n",
    "#     m_mul=0.8,\n",
    "# )\n",
    "optimizer = keras.optimizers.Adam(learning_rate=learning_rate)\n",
    "metrics = ['mae','mape']\n",
    "model.compile(\n",
    "    optimizer=optimizer,\n",
    "    # loss='mse',\n",
    "    loss=keras.losses.MeanSquaredError(),\n",
    "    metrics=metrics,\n",
    ")\n",
    "model.summary()"
   ]
  },
  {
   "cell_type": "code",
   "execution_count": 110,
   "metadata": {},
   "outputs": [
    {
     "data": {
      "text/plain": [
       "(<tf.Tensor: shape=(), dtype=float32, numpy=0.001>,\n",
       " <tf.Tensor: shape=(), dtype=float32, numpy=0.000100000114>)"
      ]
     },
     "execution_count": 110,
     "metadata": {},
     "output_type": "execute_result"
    },
    {
     "data": {
      "image/png": "[encoded data removed]",
      "text/plain": [
       "<Figure size 432x288 with 1 Axes>"
      ]
     },
     "metadata": {},
     "output_type": "display_data"
    }
   ],
   "source": [
    "steps = np.arange(n_steps)\n",
    "lrs = learning_rate(steps)\n",
    "plt.plot(steps, lrs)\n",
    "lrs[0],lrs[-1]"
   ]
  },
  {
   "cell_type": "code",
   "execution_count": 111,
   "metadata": {},
   "outputs": [
    {
     "name": "stdout",
     "output_type": "stream",
     "text": [
      "1/1 [==============================] - 2s 2s/step - loss: 2.4054 - mae: 0.8712 - mape: 423.5154\n"
     ]
    },
    {
     "data": {
      "text/plain": [
       "[2.405390739440918, 0.8712450861930847, 423.515380859375]"
      ]
     },
     "execution_count": 111,
     "metadata": {},
     "output_type": "execute_result"
    }
   ],
   "source": [
    "model.evaluate(dataset_test.take(1))"
   ]
  },
  {
   "cell_type": "code",
   "execution_count": 112,
   "metadata": {},
   "outputs": [
    {
     "name": "stdout",
     "output_type": "stream",
     "text": [
      "mse=<tf.Tensor: shape=(), dtype=float32, numpy=2.405391>\n",
      "tf.reduce_mean(mse)=<tf.Tensor: shape=(), dtype=float32, numpy=2.405391>\n",
      "out.shape=TensorShape([256, 1, 2])\n",
      "out[0]=<tf.Tensor: shape=(1, 2), dtype=float32, numpy=array([[-0.24245024,  0.55308735]], dtype=float32)>\n"
     ]
    }
   ],
   "source": [
    "for (b_im, b_tsi), b_tso in dataset_test.take(1):\n",
    "    out = model((b_im, b_tsi))\n",
    "    mse = keras.losses.MeanSquaredError()(b_tso, out)\n",
    "    # mse = keras.losses.mse(b_tso, out)\n",
    "    print(f\"{mse=}\")\n",
    "    print(f\"{tf.reduce_mean(mse)=}\")\n",
    "    print(f\"{out.shape=}\")\n",
    "    print(f\"{out[0]=}\")\n",
    "    break"
   ]
  },
  {
   "cell_type": "code",
   "execution_count": 113,
   "metadata": {},
   "outputs": [
    {
     "name": "stdout",
     "output_type": "stream",
     "text": [
      "Epoch 1/30\n",
      "149/149 [==============================] - 195s 1s/step - loss: 0.9285 - mae: 0.5366 - mape: 235.4421 - val_loss: 0.6400 - val_mae: 0.4565 - val_mape: 205.5477\n",
      "Epoch 2/30\n",
      "149/149 [==============================] - 15s 104ms/step - loss: 0.7345 - mae: 0.4470 - mape: 191.6308 - val_loss: 0.6309 - val_mae: 0.4754 - val_mape: 221.1555\n",
      "Epoch 3/30\n",
      "149/149 [==============================] - 15s 104ms/step - loss: 0.6785 - mae: 0.4257 - mape: 182.2567 - val_loss: 0.5932 - val_mae: 0.4666 - val_mape: 216.5546\n",
      "Epoch 4/30\n",
      "149/149 [==============================] - 15s 104ms/step - loss: 0.6247 - mae: 0.4124 - mape: 177.8996 - val_loss: 0.5826 - val_mae: 0.4625 - val_mape: 225.1996\n",
      "Epoch 5/30\n",
      "149/149 [==============================] - 15s 104ms/step - loss: 0.5773 - mae: 0.4022 - mape: 177.2006 - val_loss: 0.5571 - val_mae: 0.4561 - val_mape: 223.6726\n",
      "Epoch 6/30\n",
      "149/149 [==============================] - 15s 104ms/step - loss: 0.5472 - mae: 0.3969 - mape: 175.6593 - val_loss: 0.4928 - val_mae: 0.4163 - val_mape: 197.3147\n",
      "Epoch 7/30\n",
      "149/149 [==============================] - 15s 104ms/step - loss: 0.5278 - mae: 0.3908 - mape: 172.1479 - val_loss: 0.4711 - val_mae: 0.3746 - val_mape: 171.4722\n",
      "Epoch 8/30\n",
      "149/149 [==============================] - 15s 104ms/step - loss: 0.5002 - mae: 0.3735 - mape: 162.2138 - val_loss: 0.4460 - val_mae: 0.3541 - val_mape: 163.2673\n",
      "Epoch 9/30\n",
      "149/149 [==============================] - 16s 104ms/step - loss: 0.4818 - mae: 0.3691 - mape: 162.3675 - val_loss: 0.4088 - val_mae: 0.3419 - val_mape: 154.1171\n",
      "Epoch 10/30\n",
      "149/149 [==============================] - 15s 104ms/step - loss: 0.4667 - mae: 0.3628 - mape: 157.3757 - val_loss: 0.4458 - val_mae: 0.3619 - val_mape: 177.7543\n",
      "Epoch 11/30\n",
      "149/149 [==============================] - 15s 104ms/step - loss: 0.4491 - mae: 0.3544 - mape: 153.1023 - val_loss: 0.3893 - val_mae: 0.3502 - val_mape: 162.1979\n",
      "Epoch 12/30\n",
      "149/149 [==============================] - 15s 104ms/step - loss: 0.4329 - mae: 0.3490 - mape: 150.7945 - val_loss: 0.3741 - val_mae: 0.3348 - val_mape: 147.4945\n",
      "Epoch 13/30\n",
      "149/149 [==============================] - 15s 104ms/step - loss: 0.4305 - mae: 0.3464 - mape: 148.9921 - val_loss: 0.4271 - val_mae: 0.3395 - val_mape: 157.4750\n",
      "Epoch 14/30\n",
      "149/149 [==============================] - 15s 104ms/step - loss: 0.4159 - mae: 0.3404 - mape: 144.8911 - val_loss: 0.3928 - val_mae: 0.3331 - val_mape: 156.5944\n",
      "Epoch 15/30\n",
      "149/149 [==============================] - 15s 104ms/step - loss: 0.4050 - mae: 0.3360 - mape: 144.1015 - val_loss: 0.3938 - val_mae: 0.3319 - val_mape: 150.8532\n",
      "Epoch 16/30\n",
      "149/149 [==============================] - 15s 104ms/step - loss: 0.4012 - mae: 0.3351 - mape: 144.3024 - val_loss: 0.3579 - val_mae: 0.3060 - val_mape: 135.7622\n",
      "Epoch 17/30\n",
      "149/149 [==============================] - 15s 104ms/step - loss: 0.3861 - mae: 0.3307 - mape: 142.7400 - val_loss: 0.3606 - val_mae: 0.3092 - val_mape: 139.0189\n",
      "Epoch 18/30\n",
      "149/149 [==============================] - 15s 104ms/step - loss: 0.3789 - mae: 0.3284 - mape: 141.9117 - val_loss: 0.3625 - val_mae: 0.3170 - val_mape: 145.9755\n",
      "Epoch 19/30\n",
      "149/149 [==============================] - 15s 104ms/step - loss: 0.3742 - mae: 0.3257 - mape: 140.0525 - val_loss: 0.3410 - val_mae: 0.3002 - val_mape: 131.1612\n",
      "Epoch 20/30\n",
      "149/149 [==============================] - 15s 104ms/step - loss: 0.3674 - mae: 0.3216 - mape: 137.5053 - val_loss: 0.3664 - val_mae: 0.3162 - val_mape: 144.8514\n",
      "Epoch 21/30\n",
      "149/149 [==============================] - 15s 104ms/step - loss: 0.3598 - mae: 0.3187 - mape: 136.4861 - val_loss: 0.3327 - val_mae: 0.2958 - val_mape: 128.5528\n",
      "Epoch 22/30\n",
      "149/149 [==============================] - 15s 103ms/step - loss: 0.3504 - mae: 0.3151 - mape: 134.7512 - val_loss: 0.3461 - val_mae: 0.3059 - val_mape: 138.2039\n",
      "Epoch 23/30\n",
      "149/149 [==============================] - 15s 104ms/step - loss: 0.3508 - mae: 0.3153 - mape: 136.1730 - val_loss: 0.3324 - val_mae: 0.2980 - val_mape: 132.5086\n",
      "Epoch 24/30\n",
      "149/149 [==============================] - 15s 104ms/step - loss: 0.3445 - mae: 0.3125 - mape: 133.8563 - val_loss: 0.3182 - val_mae: 0.3033 - val_mape: 135.9033\n",
      "Epoch 25/30\n",
      "149/149 [==============================] - 15s 104ms/step - loss: 0.3366 - mae: 0.3119 - mape: 133.4457 - val_loss: 0.3286 - val_mae: 0.3099 - val_mape: 140.3605\n",
      "Epoch 26/30\n",
      "149/149 [==============================] - 15s 104ms/step - loss: 0.3363 - mae: 0.3104 - mape: 133.7677 - val_loss: 0.3206 - val_mae: 0.3098 - val_mape: 140.9184\n",
      "Epoch 27/30\n",
      "149/149 [==============================] - 15s 104ms/step - loss: 0.3297 - mae: 0.3079 - mape: 132.1773 - val_loss: 0.3154 - val_mae: 0.3090 - val_mape: 141.0947\n",
      "Epoch 28/30\n",
      "149/149 [==============================] - 15s 104ms/step - loss: 0.3262 - mae: 0.3083 - mape: 132.2223 - val_loss: 0.3138 - val_mae: 0.3063 - val_mape: 139.0501\n",
      "Epoch 29/30\n",
      "149/149 [==============================] - 15s 103ms/step - loss: 0.3247 - mae: 0.3068 - mape: 132.5534 - val_loss: 0.3100 - val_mae: 0.3057 - val_mape: 138.1883\n",
      "Epoch 30/30\n",
      "149/149 [==============================] - 15s 103ms/step - loss: 0.3205 - mae: 0.3062 - mape: 132.5976 - val_loss: 0.3163 - val_mae: 0.3082 - val_mape: 140.0151\n"
     ]
    }
   ],
   "source": [
    "# Train.\n",
    "# strategy = tf.distribute.get_strategy()\n",
    "history = model.fit(\n",
    "    dataset_train,\n",
    "    validation_data=dataset_val,\n",
    "    epochs=epochs,\n",
    "    verbose=1,\n",
    ")"
   ]
  },
  {
   "cell_type": "code",
   "execution_count": 114,
   "metadata": {},
   "outputs": [
    {
     "name": "stderr",
     "output_type": "stream",
     "text": [
      "/tmp/ipykernel_7819/2114538881.py:3: UserWarning: Matplotlib is currently using module://matplotlib_inline.backend_inline, which is a non-GUI backend, so cannot show the figure.\n",
      "  fig.show()\n"
     ]
    },
    {
     "data": {
      "image/png": "[encoded data removed]",
      "text/plain": [
       "<Figure size 432x288 with 1 Axes>"
      ]
     },
     "metadata": {},
     "output_type": "display_data"
    },
    {
     "data": {
      "image/png": "[encoded data removed]",
      "text/plain": [
       "<Figure size 432x288 with 1 Axes>"
      ]
     },
     "metadata": {},
     "output_type": "display_data"
    },
    {
     "data": {
      "image/png": "[encoded data removed]",
      "text/plain": [
       "<Figure size 432x288 with 1 Axes>"
      ]
     },
     "metadata": {},
     "output_type": "display_data"
    }
   ],
   "source": [
    "for key in ['loss']+metrics:\n",
    "    fig = ml.visualization.plot_metric(history.history, key)\n",
    "    fig.show()"
   ]
  },
  {
   "cell_type": "code",
   "execution_count": null,
   "metadata": {},
   "outputs": [],
   "source": []
  }
 ],
 "metadata": {
  "kernelspec": {
   "display_name": "Python 3.9.12 ('tf-p100')",
   "language": "python",
   "name": "python3"
  },
  "language_info": {
   "codemirror_mode": {
    "name": "ipython",
    "version": 3
   },
   "file_extension": ".py",
   "mimetype": "text/x-python",
   "name": "python",
   "nbconvert_exporter": "python",
   "pygments_lexer": "ipython3",
   "version": "3.9.12"
  },
  "orig_nbformat": 4,
  "vscode": {
   "interpreter": {
    "hash": "f9d28b892dbcf26bab028d0e176e36bb3090c4acb3765664e3f159d722d1b85e"
   }
  }
 },
 "nbformat": 4,
 "nbformat_minor": 2
}
