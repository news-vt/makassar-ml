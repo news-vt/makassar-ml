{
 "cells": [
  {
   "cell_type": "code",
   "execution_count": 16,
   "metadata": {},
   "outputs": [
    {
     "name": "stdout",
     "output_type": "stream",
     "text": [
      "The autoreload extension is already loaded. To reload it, use:\n",
      "  %reload_ext autoreload\n",
      "Num GPUs Available: 1\n",
      "Name: /physical_device:GPU:0, Type: GPU\n"
     ]
    }
   ],
   "source": [
    "%load_ext autoreload\n",
    "%autoreload 2\n",
    "\n",
    "from __future__ import annotations\n",
    "\n",
    "# Add parent directory to path.\n",
    "from pathlib import Path\n",
    "import os\n",
    "import sys\n",
    "os.environ['TF_CPP_MIN_LOG_LEVEL'] = '2' # https://stackoverflow.com/a/64438413\n",
    "fdir = Path(os.path.abspath('')).resolve() # Directory of current file.\n",
    "path = fdir/'..'\n",
    "if path not in sys.path:\n",
    "    sys.path.append(str(path))\n",
    "\n",
    "# Complete imports.\n",
    "from functools import partial\n",
    "import makassar_ml as ml\n",
    "import matplotlib.pyplot as plt\n",
    "import numpy as np\n",
    "import pandas as pd\n",
    "import tensorflow as tf\n",
    "import tensorflow.keras as keras\n",
    "import tensorflow_datasets as tfds\n",
    "import seaborn as sns\n",
    "from sklearn.model_selection import ParameterGrid\n",
    "sns.set() # Use seaborn themes.\n",
    "\n",
    "# List all GPUs visible to TensorFlow.\n",
    "gpus = tf.config.list_physical_devices('GPU')\n",
    "print(f\"Num GPUs Available: {len(gpus)}\")\n",
    "for gpu in gpus:\n",
    "    print(f\"Name: {gpu.name}, Type: {gpu.device_type}\")"
   ]
  },
  {
   "cell_type": "code",
   "execution_count": 17,
   "metadata": {},
   "outputs": [],
   "source": [
    "# Configure root paths.\n",
    "config_roots = dict(\n",
    "    hp_tuning_root=Path('~/research/makassar/hp_tuning').expanduser(),\n",
    ")"
   ]
  },
  {
   "cell_type": "code",
   "execution_count": 18,
   "metadata": {},
   "outputs": [],
   "source": [
    "epochs = 30\n",
    "batch_size = 256"
   ]
  },
  {
   "cell_type": "code",
   "execution_count": 19,
   "metadata": {},
   "outputs": [],
   "source": [
    "# Load the dataset.\n",
    "dataset_kwargs = dict(\n",
    "    path=str(Path('~/research/makassar/datasets/beijing_pm25').expanduser()),\n",
    "    # in_feat=['pm2.5','TEMP','Iws','Ir'],\n",
    "    # out_feat=['DEWP','PRES'],\n",
    "    in_feat=['TEMP','DEWP','PRES','Iws'],\n",
    "    out_feat=['pm2.5','Ir'],\n",
    "    # in_seq_len=24*30, # hours\n",
    "    # in_seq_len=24*7, # hours\n",
    "    in_seq_len=24, # hours\n",
    "    out_seq_len=1,\n",
    "    shift=1,\n",
    "    split=[0.7,0.2,0.1],\n",
    "    shuffle=False,\n",
    ")\n",
    "dataset_train, dataset_val, dataset_test = ml.datasets.beijingpm25.load_beijingpm25_ds(\n",
    "    **dataset_kwargs,\n",
    "    batch_size=batch_size,\n",
    ")\n",
    "n_batches = tf.data.experimental.cardinality(dataset_train)\n",
    "n_steps = n_batches*epochs"
   ]
  },
  {
   "cell_type": "code",
   "execution_count": 20,
   "metadata": {},
   "outputs": [
    {
     "name": "stdout",
     "output_type": "stream",
     "text": [
      "b_x.shape=TensorShape([256, 24, 4])\n",
      "b_y.shape=TensorShape([256, 1, 2])\n",
      "b_x.shape=TensorShape([256, 24, 4])\n",
      "b_y.shape=TensorShape([256, 1, 2])\n",
      "b_x.shape=TensorShape([256, 24, 4])\n",
      "b_y.shape=TensorShape([256, 1, 2])\n"
     ]
    }
   ],
   "source": [
    "for b_x, b_y in dataset_train:\n",
    "    print(f\"{b_x.shape=}\")\n",
    "    print(f\"{b_y.shape=}\")\n",
    "    break\n",
    "\n",
    "for b_x, b_y in dataset_val:\n",
    "    print(f\"{b_x.shape=}\")\n",
    "    print(f\"{b_y.shape=}\")\n",
    "    break\n",
    "\n",
    "for b_x, b_y in dataset_test:\n",
    "    print(f\"{b_x.shape=}\")\n",
    "    print(f\"{b_y.shape=}\")\n",
    "    break"
   ]
  },
  {
   "cell_type": "code",
   "execution_count": 11,
   "metadata": {},
   "outputs": [
    {
     "name": "stdout",
     "output_type": "stream",
     "text": [
      "epochs=30\n",
      "n_batches=<tf.Tensor: shape=(), dtype=int64, numpy=115>\n",
      "n_steps=<tf.Tensor: shape=(), dtype=int64, numpy=3450>\n"
     ]
    }
   ],
   "source": [
    "print(f\"{epochs=}\")\n",
    "print(f\"{n_batches=}\")\n",
    "print(f\"{n_steps=}\")"
   ]
  },
  {
   "cell_type": "code",
   "execution_count": 12,
   "metadata": {},
   "outputs": [
    {
     "name": "stdout",
     "output_type": "stream",
     "text": [
      "Model: \"model\"\n",
      "__________________________________________________________________________________________________\n",
      "Layer (type)                    Output Shape         Param #     Connected to                     \n",
      "==================================================================================================\n",
      "input_1 (InputLayer)            [(None, 24, 4)]      0                                            \n",
      "__________________________________________________________________________________________________\n",
      "time2_vec (Time2Vec)            (None, 24, 20)       528         input_1[0][0]                    \n",
      "__________________________________________________________________________________________________\n",
      "concatenate (Concatenate)       (None, 24, 24)       0           input_1[0][0]                    \n",
      "                                                                 time2_vec[0][0]                  \n",
      "__________________________________________________________________________________________________\n",
      "transformer_encoder_layer (Tran (None, 24, 24)       15064       concatenate[0][0]                \n",
      "__________________________________________________________________________________________________\n",
      "transformer_encoder_layer_1 (Tr (None, 24, 24)       15064       transformer_encoder_layer[0][0]  \n",
      "__________________________________________________________________________________________________\n",
      "transformer_encoder_layer_2 (Tr (None, 24, 24)       15064       transformer_encoder_layer_1[0][0]\n",
      "__________________________________________________________________________________________________\n",
      "flatten (Flatten)               (None, 576)          0           transformer_encoder_layer_2[0][0]\n",
      "__________________________________________________________________________________________________\n",
      "dense (Dense)                   (None, 2)            1154        flatten[0][0]                    \n",
      "==================================================================================================\n",
      "Total params: 46,874\n",
      "Trainable params: 46,874\n",
      "Non-trainable params: 0\n",
      "__________________________________________________________________________________________________\n"
     ]
    }
   ],
   "source": [
    "# Build and compile the model.\n",
    "model = ml.models.FoT(\n",
    "    in_seq_len=dataset_kwargs['in_seq_len'],\n",
    "    in_feat=len(dataset_kwargs['in_feat']),\n",
    "    out_feat=len(dataset_kwargs['out_feat']),\n",
    "    embed_dim=5,\n",
    "    n_heads=8,\n",
    "    ff_dim=256,\n",
    "    dropout=0.1,\n",
    "    n_encoders=3,\n",
    ")\n",
    "# optimizer = keras.optimizers.Adam(learning_rate=1e-3)\n",
    "# optimizer = keras.optimizers.Adam(\n",
    "#     keras.experimental.CosineDecayRestarts(\n",
    "#         initial_learning_rate=1e-3,\n",
    "#         first_decay_steps=1000,\n",
    "#         )\n",
    "# )\n",
    "learning_rate = keras.experimental.CosineDecay(\n",
    "    initial_learning_rate=1e-3,\n",
    "    decay_steps=n_steps,\n",
    "    alpha=0.1,\n",
    ")\n",
    "# learning_rate = keras.experimental.CosineDecayRestarts(\n",
    "#     initial_learning_rate=1e-3,\n",
    "#     first_decay_steps=n_steps//3,\n",
    "#     m_mul=0.8,\n",
    "# )\n",
    "optimizer = keras.optimizers.Adam(learning_rate=learning_rate)\n",
    "metrics = ['mae','mape']\n",
    "model.compile(\n",
    "    optimizer=optimizer,\n",
    "    loss='mse',\n",
    "    metrics=metrics,\n",
    ")\n",
    "model.summary()"
   ]
  },
  {
   "cell_type": "code",
   "execution_count": 13,
   "metadata": {},
   "outputs": [
    {
     "data": {
      "text/plain": [
       "(<tf.Tensor: shape=(), dtype=float32, numpy=0.001>,\n",
       " <tf.Tensor: shape=(), dtype=float32, numpy=0.000100000194>)"
      ]
     },
     "execution_count": 13,
     "metadata": {},
     "output_type": "execute_result"
    },
    {
     "data": {
      "image/png": "[encoded data removed]",
      "text/plain": [
       "<Figure size 432x288 with 1 Axes>"
      ]
     },
     "metadata": {},
     "output_type": "display_data"
    }
   ],
   "source": [
    "steps = np.arange(n_steps)\n",
    "lrs = learning_rate(steps)\n",
    "plt.plot(steps, lrs)\n",
    "lrs[0],lrs[-1]"
   ]
  },
  {
   "cell_type": "code",
   "execution_count": 14,
   "metadata": {},
   "outputs": [
    {
     "name": "stdout",
     "output_type": "stream",
     "text": [
      "Epoch 1/30\n",
      "115/115 [==============================] - 6s 25ms/step - loss: 2.1495 - mae: 0.8624 - mape: 469.4475 - val_loss: 1.0086 - val_mae: 0.7030 - val_mape: 357.1342\n",
      "Epoch 2/30\n",
      "115/115 [==============================] - 2s 16ms/step - loss: 1.6958 - mae: 0.6796 - mape: 271.0830 - val_loss: 0.8951 - val_mae: 0.5087 - val_mape: 116.3791\n",
      "Epoch 3/30\n",
      "115/115 [==============================] - 2s 16ms/step - loss: 1.6861 - mae: 0.6307 - mape: 209.2362 - val_loss: 0.9482 - val_mae: 0.5556 - val_mape: 168.6908\n",
      "Epoch 4/30\n",
      "115/115 [==============================] - 2s 16ms/step - loss: 1.7123 - mae: 0.6130 - mape: 183.3219 - val_loss: 0.9373 - val_mae: 0.5415 - val_mape: 151.6132\n",
      "Epoch 5/30\n",
      "115/115 [==============================] - 2s 16ms/step - loss: 1.6740 - mae: 0.6141 - mape: 187.5431 - val_loss: 0.8873 - val_mae: 0.5076 - val_mape: 115.9259\n",
      "Epoch 6/30\n",
      "115/115 [==============================] - 2s 16ms/step - loss: 1.6483 - mae: 0.5916 - mape: 162.4987 - val_loss: 0.8736 - val_mae: 0.5097 - val_mape: 119.1249\n",
      "Epoch 7/30\n",
      "115/115 [==============================] - 2s 16ms/step - loss: 1.6343 - mae: 0.5891 - mape: 159.9698 - val_loss: 0.8744 - val_mae: 0.5153 - val_mape: 126.1481\n",
      "Epoch 8/30\n",
      "115/115 [==============================] - 2s 16ms/step - loss: 1.6312 - mae: 0.5887 - mape: 159.7068 - val_loss: 0.8743 - val_mae: 0.5190 - val_mape: 130.7782\n",
      "Epoch 9/30\n",
      "115/115 [==============================] - 2s 16ms/step - loss: 1.6278 - mae: 0.5869 - mape: 157.5778 - val_loss: 0.8747 - val_mae: 0.5235 - val_mape: 136.2676\n",
      "Epoch 10/30\n",
      "115/115 [==============================] - 2s 16ms/step - loss: 1.6266 - mae: 0.5870 - mape: 157.7333 - val_loss: 0.8738 - val_mae: 0.5197 - val_mape: 131.5804\n",
      "Epoch 11/30\n",
      "115/115 [==============================] - 2s 16ms/step - loss: 1.6256 - mae: 0.5846 - mape: 154.8219 - val_loss: 0.8723 - val_mae: 0.5160 - val_mape: 127.0298\n",
      "Epoch 12/30\n",
      "115/115 [==============================] - 2s 16ms/step - loss: 1.6247 - mae: 0.5827 - mape: 152.3545 - val_loss: 0.8715 - val_mae: 0.5128 - val_mape: 122.9949\n",
      "Epoch 13/30\n",
      "115/115 [==============================] - 2s 16ms/step - loss: 1.6241 - mae: 0.5816 - mape: 150.9655 - val_loss: 0.8709 - val_mae: 0.5089 - val_mape: 118.1859\n",
      "Epoch 14/30\n",
      "115/115 [==============================] - 2s 16ms/step - loss: 1.6239 - mae: 0.5789 - mape: 147.6643 - val_loss: 0.8700 - val_mae: 0.5061 - val_mape: 114.7779\n",
      "Epoch 15/30\n",
      "115/115 [==============================] - 2s 16ms/step - loss: 1.6244 - mae: 0.5778 - mape: 146.1216 - val_loss: 0.8694 - val_mae: 0.5031 - val_mape: 110.9991\n",
      "Epoch 16/30\n",
      "115/115 [==============================] - 2s 16ms/step - loss: 1.6243 - mae: 0.5755 - mape: 143.2746 - val_loss: 0.8681 - val_mae: 0.5005 - val_mape: 107.7619\n",
      "Epoch 17/30\n",
      "115/115 [==============================] - 2s 16ms/step - loss: 1.6240 - mae: 0.5731 - mape: 140.1548 - val_loss: 0.8672 - val_mae: 0.4983 - val_mape: 104.9452\n",
      "Epoch 18/30\n",
      "115/115 [==============================] - 2s 16ms/step - loss: 1.6240 - mae: 0.5704 - mape: 136.7835 - val_loss: 0.8665 - val_mae: 0.4958 - val_mape: 101.9088\n",
      "Epoch 19/30\n",
      "115/115 [==============================] - 2s 16ms/step - loss: 1.6230 - mae: 0.5680 - mape: 133.7318 - val_loss: 0.8655 - val_mae: 0.4948 - val_mape: 100.5761\n",
      "Epoch 20/30\n",
      "115/115 [==============================] - 2s 16ms/step - loss: 1.6220 - mae: 0.5671 - mape: 132.6587 - val_loss: 0.8645 - val_mae: 0.4937 - val_mape: 99.2585\n",
      "Epoch 21/30\n",
      "115/115 [==============================] - 2s 16ms/step - loss: 1.6203 - mae: 0.5662 - mape: 131.5096 - val_loss: 0.8644 - val_mae: 0.4944 - val_mape: 100.1701\n",
      "Epoch 22/30\n",
      "115/115 [==============================] - 2s 16ms/step - loss: 1.6191 - mae: 0.5658 - mape: 131.0217 - val_loss: 0.8645 - val_mae: 0.4964 - val_mape: 102.6096\n",
      "Epoch 23/30\n",
      "115/115 [==============================] - 2s 16ms/step - loss: 1.6183 - mae: 0.5657 - mape: 131.0307 - val_loss: 0.8649 - val_mae: 0.4991 - val_mape: 105.9560\n",
      "Epoch 24/30\n",
      "115/115 [==============================] - 2s 16ms/step - loss: 1.6177 - mae: 0.5667 - mape: 132.2491 - val_loss: 0.8648 - val_mae: 0.5007 - val_mape: 107.9170\n",
      "Epoch 25/30\n",
      "115/115 [==============================] - 2s 16ms/step - loss: 1.6171 - mae: 0.5668 - mape: 132.3883 - val_loss: 0.8647 - val_mae: 0.5005 - val_mape: 107.6758\n",
      "Epoch 26/30\n",
      "115/115 [==============================] - 2s 16ms/step - loss: 1.6165 - mae: 0.5665 - mape: 132.0878 - val_loss: 0.8645 - val_mae: 0.4996 - val_mape: 106.6286\n",
      "Epoch 27/30\n",
      "115/115 [==============================] - 2s 16ms/step - loss: 1.6163 - mae: 0.5666 - mape: 132.1853 - val_loss: 0.8645 - val_mae: 0.4995 - val_mape: 106.4641\n",
      "Epoch 28/30\n",
      "115/115 [==============================] - 2s 16ms/step - loss: 1.6160 - mae: 0.5663 - mape: 131.8263 - val_loss: 0.8643 - val_mae: 0.4983 - val_mape: 104.9754\n",
      "Epoch 29/30\n",
      "115/115 [==============================] - 2s 16ms/step - loss: 1.6160 - mae: 0.5658 - mape: 131.1569 - val_loss: 0.8643 - val_mae: 0.4985 - val_mape: 105.2526\n",
      "Epoch 30/30\n",
      "115/115 [==============================] - 2s 16ms/step - loss: 1.6157 - mae: 0.5661 - mape: 131.5602 - val_loss: 0.8643 - val_mae: 0.4982 - val_mape: 104.8353\n"
     ]
    }
   ],
   "source": [
    "# Train.\n",
    "# strategy = tf.distribute.get_strategy()\n",
    "history = model.fit(\n",
    "    dataset_train,\n",
    "    validation_data=dataset_val,\n",
    "    epochs=epochs,\n",
    "    verbose=1,\n",
    ")"
   ]
  },
  {
   "cell_type": "code",
   "execution_count": 15,
   "metadata": {},
   "outputs": [
    {
     "name": "stderr",
     "output_type": "stream",
     "text": [
      "/tmp/ipykernel_1167/2114538881.py:3: UserWarning: Matplotlib is currently using module://matplotlib_inline.backend_inline, which is a non-GUI backend, so cannot show the figure.\n",
      "  fig.show()\n"
     ]
    },
    {
     "data": {
      "image/png": "[encoded data removed]",
      "text/plain": [
       "<Figure size 432x288 with 1 Axes>"
      ]
     },
     "metadata": {},
     "output_type": "display_data"
    },
    {
     "data": {
      "image/png": "[encoded data removed]",
      "text/plain": [
       "<Figure size 432x288 with 1 Axes>"
      ]
     },
     "metadata": {},
     "output_type": "display_data"
    },
    {
     "data": {
      "image/png": "[encoded data removed]",
      "text/plain": [
       "<Figure size 432x288 with 1 Axes>"
      ]
     },
     "metadata": {},
     "output_type": "display_data"
    }
   ],
   "source": [
    "for key in ['loss']+metrics:\n",
    "    fig = ml.visualization.plot_metric(history.history, key)\n",
    "    fig.show()"
   ]
  },
  {
   "cell_type": "code",
   "execution_count": null,
   "metadata": {},
   "outputs": [],
   "source": []
  }
 ],
 "metadata": {
  "kernelspec": {
   "display_name": "Python 3.9.12 ('tf-p100')",
   "language": "python",
   "name": "python3"
  },
  "language_info": {
   "codemirror_mode": {
    "name": "ipython",
    "version": 3
   },
   "file_extension": ".py",
   "mimetype": "text/x-python",
   "name": "python",
   "nbconvert_exporter": "python",
   "pygments_lexer": "ipython3",
   "version": "3.9.12"
  },
  "orig_nbformat": 4,
  "vscode": {
   "interpreter": {
    "hash": "f9d28b892dbcf26bab028d0e176e36bb3090c4acb3765664e3f159d722d1b85e"
   }
  }
 },
 "nbformat": 4,
 "nbformat_minor": 2
}
