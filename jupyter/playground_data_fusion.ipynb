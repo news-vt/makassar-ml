{
 "cells": [
  {
   "cell_type": "code",
   "execution_count": 1,
   "metadata": {},
   "outputs": [],
   "source": [
    "%load_ext autoreload\n",
    "%autoreload 2\n",
    "\n",
    "from __future__ import annotations\n",
    "\n",
    "# Add parent directory to path.\n",
    "from pathlib import Path\n",
    "import os\n",
    "import sys\n",
    "os.environ['TF_CPP_MIN_LOG_LEVEL'] = '2' # https://stackoverflow.com/a/64438413\n",
    "fdir = Path(os.path.abspath('')).resolve() # Directory of current file.\n",
    "path = fdir/'..'\n",
    "if path not in sys.path:\n",
    "    sys.path.append(str(path))\n",
    "\n",
    "# Complete imports.\n",
    "import numpy as np\n",
    "import makassar_ml as ml\n",
    "import tensorflow as tf\n",
    "import tensorflow.keras as keras\n",
    "import tensorflow_datasets as tfds\n",
    "import tensorflow_addons as tfa\n",
    "import matplotlib.pyplot as plt\n",
    "import pandas as pd\n",
    "import seaborn as sns\n",
    "import datetime as dt\n",
    "sns.set() # Use seaborn themes."
   ]
  },
  {
   "cell_type": "code",
   "execution_count": 2,
   "metadata": {},
   "outputs": [
    {
     "name": "stdout",
     "output_type": "stream",
     "text": [
      "Num GPUs Available: 1\n",
      "Name: /physical_device:GPU:0, Type: GPU\n"
     ]
    }
   ],
   "source": [
    "# List all GPUs visible to TensorFlow.\n",
    "gpus = tf.config.list_physical_devices('GPU')\n",
    "print(f\"Num GPUs Available: {len(gpus)}\")\n",
    "for gpu in gpus:\n",
    "    print(f\"Name: {gpu.name}, Type: {gpu.device_type}\")"
   ]
  },
  {
   "cell_type": "code",
   "execution_count": 3,
   "metadata": {},
   "outputs": [],
   "source": [
    "def fuse_dated_images_timeseries(\n",
    "    ds_images_dates: tf.data.Dataset,\n",
    "    df_timeseries: pd.DataFrame,\n",
    "    timedelta_dict: dict, # i.e., {'days':1, 'hours':24, 'minutes':5}\n",
    "    datetime_column: str = 'datetime',\n",
    "    datetime_format: str = '%Y-%m-%d %H:%M:%S',\n",
    "    features: list[str] = None,\n",
    "    ):\n",
    "\n",
    "    # Set the index to datetime so lookup is quicker.\n",
    "    df_timeseries_datetimeindex = df_timeseries.set_index([datetime_column])\n",
    "\n",
    "    def gen():\n",
    "        for (image, date), label in ds_images_dates:\n",
    "            end_date = dt.datetime.strptime(date.numpy().decode('utf8'), datetime_format)\n",
    "            start_date = end_date - dt.timedelta(**timedelta_dict)\n",
    "            df_timeseries_range = df_timeseries_datetimeindex.loc[start_date:end_date]\n",
    "            df_timeseries_range.reset_index(inplace=True)\n",
    "            if features is not None:\n",
    "                df_timeseries_range = df_timeseries_range[features]\n",
    "            tensor_timeseries_range = tf.convert_to_tensor(df_timeseries_range)\n",
    "            yield ((image, tensor_timeseries_range), label)\n",
    "\n",
    "    ds_fused = tf.data.Dataset.from_generator(\n",
    "        gen,\n",
    "        output_signature=(\n",
    "            (\n",
    "                tf.TensorSpec(shape=(None, None, 3), dtype=tf.uint8), # image\n",
    "                tf.TensorSpec(shape=(None, None), dtype=tf.float32), # timeseries\n",
    "            ),\n",
    "            tf.TensorSpec(shape=(), dtype=tf.int64), # label\n",
    "        ),\n",
    "    )\n",
    "    # Set length of dataset since it will be the same as the image dataset.\n",
    "    ds_fused = ds_fused.apply(tf.data.experimental.assert_cardinality(tf.data.experimental.cardinality(ds_images_dates)))\n",
    "    return ds_fused"
   ]
  },
  {
   "cell_type": "code",
   "execution_count": 4,
   "metadata": {},
   "outputs": [],
   "source": [
    "# Load image dataset.\n",
    "ds_images, info = tfds.load(\n",
    "    name='plant_village',\n",
    "    split='train',\n",
    "    as_supervised=True,\n",
    "    with_info=True,\n",
    "    shuffle_files=True,\n",
    ")\n",
    "label_names = info.features['label'].names\n",
    "\n",
    "# Load weather dataset.\n",
    "df_weather = ml.datasets.beijingpm25.load_beijingpm25_df(\n",
    "    path=Path(\"~/research/makassar/datasets/beijing_pm25\").expanduser(),\n",
    ")"
   ]
  },
  {
   "cell_type": "code",
   "execution_count": 5,
   "metadata": {},
   "outputs": [],
   "source": [
    "# Generate random distribution of dates to associated with the images.\n",
    "hours = 72\n",
    "reserve_offset_index = hours + 1\n",
    "timeseries_datetime_column = 'datetime'\n",
    "n_images = int(ds_images.cardinality())\n",
    "random_dates = df_weather.iloc[reserve_offset_index:].sample(n=n_images, replace=True)[timeseries_datetime_column]"
   ]
  },
  {
   "cell_type": "code",
   "execution_count": 6,
   "metadata": {},
   "outputs": [
    {
     "data": {
      "text/plain": [
       "Text(0, 0.5, 'count')"
      ]
     },
     "execution_count": 6,
     "metadata": {},
     "output_type": "execute_result"
    },
    {
     "data": {
      "image/png": "[encoded data removed]",
      "text/plain": [
       "<Figure size 1080x504 with 1 Axes>"
      ]
     },
     "metadata": {},
     "output_type": "display_data"
    }
   ],
   "source": [
    "# Plot distribution of dates.\n",
    "plt.figure(figsize=(15,7))\n",
    "random_dates.groupby([random_dates.dt.year, random_dates.dt.month]).count().plot(kind=\"bar\")\n",
    "plt.xlabel('date (year, month)')\n",
    "plt.ylabel('count')"
   ]
  },
  {
   "cell_type": "code",
   "execution_count": 7,
   "metadata": {},
   "outputs": [],
   "source": [
    "# Fuse images with dates.\n",
    "ds_images_dates = tf.data.Dataset.zip(\n",
    "    (ds_images, tf.data.Dataset.from_tensor_slices(random_dates.astype(str)))\n",
    ").map(\n",
    "    lambda image_label, datestring: ((image_label[0], datestring), image_label[1]) # Reorder to ((image, date), label).\n",
    ")"
   ]
  },
  {
   "cell_type": "code",
   "execution_count": 8,
   "metadata": {},
   "outputs": [
    {
     "name": "stdout",
     "output_type": "stream",
     "text": [
      "(128, 256, 256, 3)\n",
      "(128,)\n",
      "(128,)\n"
     ]
    }
   ],
   "source": [
    "for (image, date), label in ds_images_dates.batch(128).take(5):\n",
    "    print(image.shape)\n",
    "    print(label.shape)\n",
    "    print(date.shape)\n",
    "    break"
   ]
  },
  {
   "cell_type": "code",
   "execution_count": 9,
   "metadata": {},
   "outputs": [
    {
     "name": "stdout",
     "output_type": "stream",
     "text": [
      "(128, 256, 256, 3) (128, 73, 6) (128,)\n"
     ]
    }
   ],
   "source": [
    "ds_fused = fuse_dated_images_timeseries(\n",
    "    ds_images_dates=ds_images_dates, \n",
    "    df_timeseries=df_weather,\n",
    "    timedelta_dict=dict(hours=hours),\n",
    "    features=['DEWP', 'TEMP','PRES','Iws','Is','Ir'],\n",
    ")\n",
    "for (image, data), label in ds_fused.batch(128).take(1):\n",
    "    print(image.shape, data.shape, label.shape)\n",
    "    break"
   ]
  },
  {
   "cell_type": "code",
   "execution_count": 13,
   "metadata": {},
   "outputs": [],
   "source": [
    "def image_augmentation(image: tf.Tensor, size: tuple[int,int] = None):\n",
    "    if size is not None:\n",
    "        dtype = image.dtype # Preserve original data type for casting after resize operation.\n",
    "        image = tf.image.resize(image, size=size)\n",
    "        image = tf.cast(image, dtype)\n",
    "    # image = keras.layers.experimental.preprocessing.Resizing(200,200)(image)\n",
    "    image = tf.image.random_flip_left_right(image)\n",
    "    image = tf.image.random_flip_up_down(image)\n",
    "    image = tf.cast(image, dtype=tf.float32) / tf.constant(256, dtype=tf.float32) # Rescale.\n",
    "    # image = tfa.image.rotate(image, tf.random.normal(shape=[])*np.pi/180., interpolation='bilinear')\n",
    "    return image"
   ]
  },
  {
   "cell_type": "code",
   "execution_count": 15,
   "metadata": {},
   "outputs": [],
   "source": [
    "image_shape = (72, 72, 3)\n",
    "ds_fused = ds_fused.map(lambda image_data, label: ((image_augmentation(image_data[0], size=(image_shape[0], image_shape[1])), image_data[1]), label))"
   ]
  },
  {
   "cell_type": "code",
   "execution_count": 10,
   "metadata": {},
   "outputs": [
    {
     "name": "stdout",
     "output_type": "stream",
     "text": [
      "Model: \"model_2\"\n",
      "__________________________________________________________________________________________________\n",
      "Layer (type)                    Output Shape         Param #     Connected to                     \n",
      "==================================================================================================\n",
      "input_1 (InputLayer)            [(None, 256, 256, 3) 0                                            \n",
      "__________________________________________________________________________________________________\n",
      "input_3 (InputLayer)            [(None, 73, 6)]      0                                            \n",
      "__________________________________________________________________________________________________\n",
      "model (Functional)              (None, 196, 32)      100480      input_1[0][0]                    \n",
      "__________________________________________________________________________________________________\n",
      "model_1 (Functional)            (None, 73, 198)      782367      input_3[0][0]                    \n",
      "__________________________________________________________________________________________________\n",
      "flatten (Flatten)               (None, 6272)         0           model[0][0]                      \n",
      "__________________________________________________________________________________________________\n",
      "flatten_1 (Flatten)             (None, 14454)        0           model_1[0][0]                    \n",
      "__________________________________________________________________________________________________\n",
      "concatenate_1 (Concatenate)     (None, 20726)        0           flatten[0][0]                    \n",
      "                                                                 flatten_1[0][0]                  \n",
      "__________________________________________________________________________________________________\n",
      "dense_1 (Dense)                 (None, 38)           787626      concatenate_1[0][0]              \n",
      "==================================================================================================\n",
      "Total params: 1,670,473\n",
      "Trainable params: 1,670,473\n",
      "Non-trainable params: 0\n",
      "__________________________________________________________________________________________________\n",
      "Epoch 1/10\n",
      "297/297 [==============================] - 174s 570ms/step - loss: 2.6500 - accuracy: 0.3172 - val_loss: 1.1996 - val_accuracy: 0.6466\n",
      "Epoch 2/10\n",
      "297/297 [==============================] - 39s 131ms/step - loss: 1.1250 - accuracy: 0.6738 - val_loss: 0.9206 - val_accuracy: 0.7237\n",
      "Epoch 3/10\n",
      "297/297 [==============================] - 39s 130ms/step - loss: 0.8655 - accuracy: 0.7448 - val_loss: 0.7878 - val_accuracy: 0.7650\n",
      "Epoch 4/10\n",
      "297/297 [==============================] - 39s 130ms/step - loss: 0.7018 - accuracy: 0.7919 - val_loss: 0.6868 - val_accuracy: 0.7938\n",
      "Epoch 5/10\n",
      "297/297 [==============================] - 39s 131ms/step - loss: 0.5960 - accuracy: 0.8203 - val_loss: 0.6207 - val_accuracy: 0.8147\n",
      "Epoch 6/10\n",
      "297/297 [==============================] - 39s 131ms/step - loss: 0.5059 - accuracy: 0.8492 - val_loss: 0.6005 - val_accuracy: 0.8177\n",
      "Epoch 7/10\n",
      "297/297 [==============================] - 39s 130ms/step - loss: 0.4427 - accuracy: 0.8679 - val_loss: 0.5575 - val_accuracy: 0.8290\n",
      "Epoch 8/10\n",
      "297/297 [==============================] - 38s 129ms/step - loss: 0.3860 - accuracy: 0.8844 - val_loss: 0.5252 - val_accuracy: 0.8377\n",
      "Epoch 9/10\n",
      "297/297 [==============================] - 39s 130ms/step - loss: 0.3363 - accuracy: 0.9021 - val_loss: 0.5390 - val_accuracy: 0.8341\n",
      "Epoch 10/10\n",
      "297/297 [==============================] - 39s 130ms/step - loss: 0.2952 - accuracy: 0.9137 - val_loss: 0.5053 - val_accuracy: 0.8445\n"
     ]
    }
   ],
   "source": [
    "# Visual Forecast Transformer (ViFoT)\n",
    "# inputs are images + weather\n",
    "# output is plant health\n",
    "def ViFoT(\n",
    "    image_shape: tuple,\n",
    "    patch_size: int,\n",
    "    num_patches: int,\n",
    "    seq_in_seq_len: int,\n",
    "    seq_in_feat: int,\n",
    "    seq_out_feat: int,\n",
    "    image_embed_dim: int,\n",
    "    seq_embed_dim: int,\n",
    "    n_class: int,\n",
    "    image_n_encoders: int = 3,\n",
    "    seq_n_encoders: int = 3,\n",
    "    image_n_heads: int = 8,\n",
    "    seq_n_heads: int = 8,\n",
    "    image_ff_dim: int = 2048,\n",
    "    seq_ff_dim: int = 2048,\n",
    "    dropout: float = 0.0,\n",
    "    image_fc_units: list[int] = [],\n",
    "    ):\n",
    "\n",
    "    ###\n",
    "    # Image Branch.\n",
    "    ###\n",
    "\n",
    "    # Input tensor.\n",
    "    inp_image = keras.Input(shape=image_shape)\n",
    "    # Vision Transformer for image feature extraction.\n",
    "    x_image = ml.models.vit.ViT(\n",
    "        image_shape=image_shape,\n",
    "        patch_size=patch_size,\n",
    "        num_patches=num_patches,\n",
    "        embed_dim=image_embed_dim,\n",
    "        n_class=n_class,\n",
    "        n_encoders=image_n_encoders,\n",
    "        n_heads=image_n_heads,\n",
    "        ff_dim=image_ff_dim,\n",
    "        dropout=dropout,\n",
    "        fc_units=image_fc_units,\n",
    "        include_top=False,\n",
    "    )(inp_image)\n",
    "\n",
    "    ###\n",
    "    # Sequence Branch.\n",
    "    ###\n",
    "    inp_seq = keras.Input(shape=(seq_in_seq_len, seq_in_feat))\n",
    "    x_seq = ml.models.fot.FoT(\n",
    "        in_seq_len=seq_in_seq_len,\n",
    "        in_feat=seq_in_feat,\n",
    "        embed_dim=seq_embed_dim,\n",
    "        out_feat=seq_out_feat,\n",
    "        n_heads=seq_n_heads,\n",
    "        key_dim=None,\n",
    "        value_dim=None,\n",
    "        ff_dim=seq_ff_dim,\n",
    "        dropout=dropout,\n",
    "        n_encoders=seq_n_encoders,\n",
    "        include_top=False,\n",
    "    )(inp_seq)\n",
    "\n",
    "    ###\n",
    "    # Combine results from all branches.\n",
    "    ###\n",
    "    # Flatten to ensure tensors can be concatenated.\n",
    "    x_image = keras.layers.Flatten(data_format='channels_last')(x_image)\n",
    "    x_seq = keras.layers.Flatten(data_format='channels_last')(x_seq)\n",
    "    # Concatenate them.\n",
    "    x = keras.layers.Concatenate(axis=-1)([x_image, x_seq])\n",
    "\n",
    "    # Add intermediate dense layers with ReLU activation.\n",
    "    if image_fc_units:\n",
    "        for units in image_fc_units:\n",
    "            x = keras.layers.Dense(units=units, activation='relu')(x)\n",
    "\n",
    "    # Classifier on the end.\n",
    "    x = keras.layers.Dense(units=n_class, activation='softmax')(x)\n",
    "\n",
    "\n",
    "    return keras.Model(inputs=[inp_image, inp_seq], outputs=[x])\n",
    "\n",
    "\n",
    "# image_shape = (256, 256, 3)\n",
    "patch_size = 6\n",
    "model = ViFoT(\n",
    "    image_shape=image_shape,\n",
    "    patch_size=patch_size,\n",
    "    num_patches=(image_shape[0]//patch_size)**2,\n",
    "    seq_in_seq_len=hours+1,\n",
    "    seq_in_feat=6,\n",
    "    seq_out_feat=1,\n",
    "    image_embed_dim=32,\n",
    "    seq_embed_dim=32,\n",
    "    n_class=len(label_names),\n",
    "    image_n_encoders=3,\n",
    "    seq_n_encoders=3,\n",
    "    image_n_heads=8,\n",
    "    seq_n_heads=8,\n",
    "    image_ff_dim=256,\n",
    "    seq_ff_dim=256,\n",
    "    dropout=0.1,\n",
    ")\n",
    "model.summary()\n",
    "\n",
    "model.compile(\n",
    "    optimizer=keras.optimizers.Adam(lr=1e-4),\n",
    "    loss='sparse_categorical_crossentropy',\n",
    "    metrics=['accuracy'],\n",
    ")\n",
    "\n",
    "ds_fused_size = tf.data.experimental.cardinality(ds_fused).numpy()\n",
    "ds_train, ds_val, ds_test = ml.datasets.utility.partition_dataset_ds(\n",
    "    ds=ds_fused,\n",
    "    split=[0.7,0.2,0.1],\n",
    ")\n",
    "\n",
    "ds_train = ds_train.batch(128).prefetch(tf.data.AUTOTUNE).cache()\n",
    "ds_val = ds_val.batch(128).prefetch(tf.data.AUTOTUNE).cache()\n",
    "ds_test = ds_test.batch(128).prefetch(tf.data.AUTOTUNE).cache()\n",
    "\n",
    "# history = model.fit(ds_fused.batch(128).prefetch(tf.data.AUTOTUNE).take(256).cache(), epochs=10, verbose=1)\n",
    "history = model.fit(ds_train, validation_data=ds_val, epochs=10, verbose=1)"
   ]
  },
  {
   "cell_type": "code",
   "execution_count": 12,
   "metadata": {},
   "outputs": [
    {
     "data": {
      "image/png": "[encoded data removed]",
      "text/plain": [
       "<Figure size 432x288 with 1 Axes>"
      ]
     },
     "metadata": {},
     "output_type": "display_data"
    },
    {
     "data": {
      "image/png": "[encoded data removed]",
      "text/plain": [
       "<Figure size 432x288 with 1 Axes>"
      ]
     },
     "metadata": {},
     "output_type": "display_data"
    }
   ],
   "source": [
    "for key in ['loss', 'accuracy']:\n",
    "    plt.figure()\n",
    "    if key in history.history:\n",
    "        plt.plot(history.history[key], label='train')\n",
    "    key_val = f\"val_{key}\"\n",
    "    if key_val in history.history:\n",
    "        plt.plot(history.history[key_val], label='val')\n",
    "    plt.legend()\n",
    "    plt.title(key)\n",
    "# plt.figure()\n",
    "# plt.plot(history.history['accuracy'], label='train')\n",
    "# # plt.plot(history.history['val_accuracy'], label='val')\n",
    "# plt.legend()"
   ]
  },
  {
   "cell_type": "code",
   "execution_count": null,
   "metadata": {},
   "outputs": [],
   "source": []
  }
 ],
 "metadata": {
  "kernelspec": {
   "display_name": "Python 3.9.12 ('tf-p100')",
   "language": "python",
   "name": "python3"
  },
  "language_info": {
   "codemirror_mode": {
    "name": "ipython",
    "version": 3
   },
   "file_extension": ".py",
   "mimetype": "text/x-python",
   "name": "python",
   "nbconvert_exporter": "python",
   "pygments_lexer": "ipython3",
   "version": "3.9.12"
  },
  "orig_nbformat": 4,
  "vscode": {
   "interpreter": {
    "hash": "f9d28b892dbcf26bab028d0e176e36bb3090c4acb3765664e3f159d722d1b85e"
   }
  }
 },
 "nbformat": 4,
 "nbformat_minor": 2
}
