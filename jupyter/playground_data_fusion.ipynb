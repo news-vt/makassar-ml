{
 "cells": [
  {
   "cell_type": "code",
   "execution_count": 2,
   "metadata": {},
   "outputs": [],
   "source": [
    "%load_ext autoreload\n",
    "%autoreload 2\n",
    "\n",
    "from __future__ import annotations\n",
    "\n",
    "# Add parent directory to path.\n",
    "from pathlib import Path\n",
    "import os\n",
    "import sys\n",
    "os.environ['TF_CPP_MIN_LOG_LEVEL'] = '2' # https://stackoverflow.com/a/64438413\n",
    "fdir = Path(os.path.abspath('')).resolve() # Directory of current file.\n",
    "path = fdir/'..'\n",
    "if path not in sys.path:\n",
    "    sys.path.append(str(path))\n",
    "\n",
    "# Complete imports.\n",
    "import numpy as np\n",
    "import makassar_ml as ml\n",
    "import tensorflow as tf\n",
    "import tensorflow.keras as keras\n",
    "import tensorflow_datasets as tfds\n",
    "import tensorflow_addons as tfa\n",
    "import matplotlib.pyplot as plt\n",
    "import pandas as pd\n",
    "import seaborn as sns\n",
    "import datetime as dt\n",
    "sns.set() # Use seaborn themes."
   ]
  },
  {
   "cell_type": "code",
   "execution_count": 3,
   "metadata": {},
   "outputs": [
    {
     "name": "stdout",
     "output_type": "stream",
     "text": [
      "Num GPUs Available: 1\n",
      "Name: /physical_device:GPU:0, Type: GPU\n"
     ]
    }
   ],
   "source": [
    "# List all GPUs visible to TensorFlow.\n",
    "gpus = tf.config.list_physical_devices('GPU')\n",
    "print(f\"Num GPUs Available: {len(gpus)}\")\n",
    "for gpu in gpus:\n",
    "    print(f\"Name: {gpu.name}, Type: {gpu.device_type}\")"
   ]
  },
  {
   "cell_type": "code",
   "execution_count": 4,
   "metadata": {},
   "outputs": [],
   "source": [
    "def fuse_dated_images_timeseries(\n",
    "    ds_images_dates: tf.data.Dataset,\n",
    "    df_timeseries: pd.DataFrame,\n",
    "    timedelta_dict: dict, # i.e., {'days':1, 'hours':24, 'minutes':5}\n",
    "    datetime_column: str = 'datetime',\n",
    "    datetime_format: str = '%Y-%m-%d %H:%M:%S',\n",
    "    features: list[str] = None,\n",
    "    ):\n",
    "\n",
    "    # Set the index to datetime so lookup is quicker.\n",
    "    df_timeseries_datetimeindex = df_timeseries.set_index([datetime_column])\n",
    "\n",
    "    def gen():\n",
    "        for (image, date), label in ds_images_dates:\n",
    "            end_date = dt.datetime.strptime(date.numpy().decode('utf8'), datetime_format)\n",
    "            start_date = end_date - dt.timedelta(**timedelta_dict)\n",
    "            df_timeseries_range = df_timeseries_datetimeindex.loc[start_date:end_date]\n",
    "            df_timeseries_range.reset_index(inplace=True)\n",
    "            if features is not None:\n",
    "                df_timeseries_range = df_timeseries_range[features]\n",
    "            tensor_timeseries_range = tf.convert_to_tensor(df_timeseries_range)\n",
    "            yield ((image, tensor_timeseries_range), label)\n",
    "\n",
    "    return tf.data.Dataset.from_generator(\n",
    "        gen,\n",
    "        output_signature=(\n",
    "            (\n",
    "                tf.TensorSpec(shape=(None, None, 3), dtype=tf.uint8), # image\n",
    "                tf.TensorSpec(shape=(None, None), dtype=tf.float32), # timeseries\n",
    "            ),\n",
    "            tf.TensorSpec(shape=(), dtype=tf.int64), # label\n",
    "        ),\n",
    "    )"
   ]
  },
  {
   "cell_type": "code",
   "execution_count": 5,
   "metadata": {},
   "outputs": [],
   "source": [
    "# Load image dataset.\n",
    "ds_images, info = tfds.load(\n",
    "    name='plant_village',\n",
    "    split='train',\n",
    "    as_supervised=True,\n",
    "    with_info=True,\n",
    "    shuffle_files=False,\n",
    ")\n",
    "\n",
    "# Load weather dataset.\n",
    "df_weather = ml.datasets.beijingpm25.load_beijingpm25_df(\n",
    "    path=Path(\"~/research/makassar/datasets/beijing_pm25\").expanduser(),\n",
    ")"
   ]
  },
  {
   "cell_type": "code",
   "execution_count": 6,
   "metadata": {},
   "outputs": [],
   "source": [
    "# Generate random distribution of dates to associated with the images.\n",
    "reserve_offset_index = 0\n",
    "timeseries_datetime_column = 'datetime'\n",
    "n_images = int(ds_images.cardinality())\n",
    "random_dates = df_weather.iloc[reserve_offset_index:].sample(n=n_images, replace=True)[timeseries_datetime_column]"
   ]
  },
  {
   "cell_type": "code",
   "execution_count": 7,
   "metadata": {},
   "outputs": [
    {
     "data": {
      "text/plain": [
       "Text(0, 0.5, 'count')"
      ]
     },
     "execution_count": 7,
     "metadata": {},
     "output_type": "execute_result"
    },
    {
     "data": {
      "image/png": "[encoded data removed]",
      "text/plain": [
       "<Figure size 1080x504 with 1 Axes>"
      ]
     },
     "metadata": {},
     "output_type": "display_data"
    }
   ],
   "source": [
    "# Plot distribution of dates.\n",
    "plt.figure(figsize=(15,7))\n",
    "random_dates.groupby([random_dates.dt.year, random_dates.dt.month]).count().plot(kind=\"bar\")\n",
    "plt.xlabel('date (year, month)')\n",
    "plt.ylabel('count')"
   ]
  },
  {
   "cell_type": "code",
   "execution_count": 8,
   "metadata": {},
   "outputs": [],
   "source": [
    "# Fuse images with dates.\n",
    "ds_images_dates = tf.data.Dataset.zip(\n",
    "        (ds_images, tf.data.Dataset.from_tensor_slices(random_dates.astype(str)))\n",
    "    ).map(\n",
    "        lambda image_label, datestring: ((image_label[0], datestring), image_label[1]) # Reorder to ((image, date), label).\n",
    "    )"
   ]
  },
  {
   "cell_type": "code",
   "execution_count": 9,
   "metadata": {},
   "outputs": [
    {
     "name": "stdout",
     "output_type": "stream",
     "text": [
      "(128, 256, 256, 3)\n",
      "(128,)\n",
      "(128,)\n"
     ]
    }
   ],
   "source": [
    "for (image, date), label in ds_images_dates.batch(128).take(5):\n",
    "    print(image.shape)\n",
    "    print(label.shape)\n",
    "    print(date.shape)\n",
    "    break"
   ]
  },
  {
   "cell_type": "code",
   "execution_count": 10,
   "metadata": {},
   "outputs": [
    {
     "name": "stdout",
     "output_type": "stream",
     "text": [
      "(128, 256, 256, 3) (128, 73, 6) (128,)\n"
     ]
    }
   ],
   "source": [
    "temp = fuse_dated_images_timeseries(\n",
    "    ds_images_dates=ds_images_dates, \n",
    "    df_timeseries=df_weather,\n",
    "    timedelta_dict=dict(hours=72),\n",
    "    features=['DEWP', 'TEMP','PRES','Iws','Is','Ir'],\n",
    ")\n",
    "for (image, data), label in temp.batch(128).take(1):\n",
    "    print(image.shape, data.shape, label.shape)\n",
    "    break"
   ]
  },
  {
   "cell_type": "code",
   "execution_count": null,
   "metadata": {},
   "outputs": [],
   "source": []
  }
 ],
 "metadata": {
  "kernelspec": {
   "display_name": "Python 3.9.12 ('tf-p100')",
   "language": "python",
   "name": "python3"
  },
  "language_info": {
   "codemirror_mode": {
    "name": "ipython",
    "version": 3
   },
   "file_extension": ".py",
   "mimetype": "text/x-python",
   "name": "python",
   "nbconvert_exporter": "python",
   "pygments_lexer": "ipython3",
   "version": "3.9.12"
  },
  "orig_nbformat": 4,
  "vscode": {
   "interpreter": {
    "hash": "f9d28b892dbcf26bab028d0e176e36bb3090c4acb3765664e3f159d722d1b85e"
   }
  }
 },
 "nbformat": 4,
 "nbformat_minor": 2
}
