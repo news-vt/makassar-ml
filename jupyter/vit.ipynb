{
 "cells": [
  {
   "cell_type": "code",
   "execution_count": 1,
   "metadata": {},
   "outputs": [
    {
     "name": "stdout",
     "output_type": "stream",
     "text": [
      "Num GPUs Available: 1\n",
      "Name: /physical_device:GPU:0, Type: GPU\n"
     ]
    }
   ],
   "source": [
    "%load_ext autoreload\n",
    "%autoreload 2\n",
    "\n",
    "from __future__ import annotations\n",
    "\n",
    "# Add parent directory to path.\n",
    "from pathlib import Path\n",
    "import os\n",
    "import sys\n",
    "os.environ['TF_CPP_MIN_LOG_LEVEL'] = '2' # https://stackoverflow.com/a/64438413\n",
    "fdir = Path(os.path.abspath('')).resolve() # Directory of current file.\n",
    "path = fdir/'..'\n",
    "if path not in sys.path:\n",
    "    sys.path.append(str(path))\n",
    "\n",
    "# Complete imports.\n",
    "from functools import partial\n",
    "import makassar_ml as ml\n",
    "import matplotlib.pyplot as plt\n",
    "import numpy as np\n",
    "import pandas as pd\n",
    "import tensorflow as tf\n",
    "import tensorflow.keras as keras\n",
    "import tensorflow_datasets as tfds\n",
    "import seaborn as sns\n",
    "from sklearn.model_selection import ParameterGrid\n",
    "sns.set() # Use seaborn themes.\n",
    "\n",
    "# List all GPUs visible to TensorFlow.\n",
    "gpus = tf.config.list_physical_devices('GPU')\n",
    "print(f\"Num GPUs Available: {len(gpus)}\")\n",
    "for gpu in gpus:\n",
    "    print(f\"Name: {gpu.name}, Type: {gpu.device_type}\")"
   ]
  },
  {
   "cell_type": "code",
   "execution_count": 2,
   "metadata": {},
   "outputs": [],
   "source": [
    "keras.backend.clear_session()"
   ]
  },
  {
   "cell_type": "code",
   "execution_count": 3,
   "metadata": {},
   "outputs": [],
   "source": [
    "# Configure root paths.\n",
    "config_roots = dict(\n",
    "    hp_tuning_root=Path('~/research/makassar/hp_tuning').expanduser(),\n",
    ")"
   ]
  },
  {
   "cell_type": "code",
   "execution_count": 4,
   "metadata": {},
   "outputs": [],
   "source": [
    "epochs = 30\n",
    "batch_size = 256"
   ]
  },
  {
   "cell_type": "code",
   "execution_count": 5,
   "metadata": {},
   "outputs": [],
   "source": [
    "# Load the dataset.\n",
    "dataset_kwargs = dict(\n",
    "    image_shape=[72,72,3],\n",
    "    split=['train[0%:70%]', 'train[70%:90%]', 'train[90%:]'],\n",
    "    shuffle_files=False,\n",
    ")\n",
    "dataset_train, dataset_val, dataset_test = ml.datasets.plant_village.load_data(\n",
    "    **dataset_kwargs,\n",
    "    batch_size=batch_size,\n",
    ")\n",
    "n_batches = tf.data.experimental.cardinality(dataset_train)\n",
    "n_steps = n_batches*epochs"
   ]
  },
  {
   "cell_type": "code",
   "execution_count": 6,
   "metadata": {},
   "outputs": [
    {
     "name": "stdout",
     "output_type": "stream",
     "text": [
      "epochs=30\n",
      "n_batches=<tf.Tensor: shape=(), dtype=int64, numpy=149>\n",
      "n_steps=<tf.Tensor: shape=(), dtype=int64, numpy=4470>\n"
     ]
    }
   ],
   "source": [
    "print(f\"{epochs=}\")\n",
    "print(f\"{n_batches=}\")\n",
    "print(f\"{n_steps=}\")"
   ]
  },
  {
   "cell_type": "code",
   "execution_count": 7,
   "metadata": {},
   "outputs": [
    {
     "name": "stdout",
     "output_type": "stream",
     "text": [
      "Model: \"model\"\n",
      "_________________________________________________________________\n",
      "Layer (type)                 Output Shape              Param #   \n",
      "=================================================================\n",
      "input_1 (InputLayer)         [(None, 72, 72, 3)]       0         \n",
      "_________________________________________________________________\n",
      "patches (Patches)            (None, 144, 108)          0         \n",
      "_________________________________________________________________\n",
      "patch_encoder (PatchEncoder) (None, 144, 16)           4048      \n",
      "_________________________________________________________________\n",
      "transformer_encoder_layer (T (None, 144, 16)           9616      \n",
      "_________________________________________________________________\n",
      "transformer_encoder_layer_1  (None, 144, 16)           9616      \n",
      "_________________________________________________________________\n",
      "transformer_encoder_layer_2  (None, 144, 16)           9616      \n",
      "_________________________________________________________________\n",
      "flatten (Flatten)            (None, 2304)              0         \n",
      "_________________________________________________________________\n",
      "dense_1 (Dense)              (None, 38)                87590     \n",
      "=================================================================\n",
      "Total params: 120,486\n",
      "Trainable params: 120,486\n",
      "Non-trainable params: 0\n",
      "_________________________________________________________________\n"
     ]
    }
   ],
   "source": [
    "# Build and compile the model.\n",
    "model = ml.models.ViT(\n",
    "    image_shape=dataset_kwargs['image_shape'],\n",
    "    n_class=38,\n",
    "    patch_size=6,\n",
    "    embed_dim=16,\n",
    "    n_heads=8,\n",
    "    ff_dim=256,\n",
    "    dropout=0.1,\n",
    "    n_encoders=3,\n",
    "    fc_units=[],\n",
    ")\n",
    "# optimizer = keras.optimizers.Adam(learning_rate=1e-3)\n",
    "# optimizer = keras.optimizers.Adam(\n",
    "#     keras.experimental.CosineDecayRestarts(\n",
    "#         initial_learning_rate=1e-3,\n",
    "#         first_decay_steps=1000,\n",
    "#         )\n",
    "# )\n",
    "learning_rate = keras.experimental.CosineDecay(\n",
    "    initial_learning_rate=1e-3,\n",
    "    decay_steps=n_steps,\n",
    "    alpha=0.1,\n",
    ")\n",
    "# learning_rate = keras.experimental.CosineDecayRestarts(\n",
    "#     initial_learning_rate=1e-3,\n",
    "#     first_decay_steps=n_steps//3,\n",
    "#     m_mul=0.8,\n",
    "# )\n",
    "optimizer = keras.optimizers.Adam(learning_rate=learning_rate)\n",
    "metrics = ['accuracy']\n",
    "model.compile(\n",
    "    optimizer=optimizer,\n",
    "    loss='sparse_categorical_crossentropy',\n",
    "    metrics=metrics,\n",
    ")\n",
    "model.summary()"
   ]
  },
  {
   "cell_type": "code",
   "execution_count": 8,
   "metadata": {},
   "outputs": [
    {
     "data": {
      "text/plain": [
       "(<tf.Tensor: shape=(), dtype=float32, numpy=0.001>,\n",
       " <tf.Tensor: shape=(), dtype=float32, numpy=0.000100000114>)"
      ]
     },
     "execution_count": 8,
     "metadata": {},
     "output_type": "execute_result"
    },
    {
     "data": {
      "image/png": "[encoded data removed]",
      "text/plain": [
       "<Figure size 432x288 with 1 Axes>"
      ]
     },
     "metadata": {},
     "output_type": "display_data"
    }
   ],
   "source": [
    "steps = np.arange(n_steps)\n",
    "lrs = learning_rate(steps)\n",
    "plt.plot(steps, lrs)\n",
    "lrs[0],lrs[-1]"
   ]
  },
  {
   "cell_type": "code",
   "execution_count": 9,
   "metadata": {},
   "outputs": [
    {
     "name": "stdout",
     "output_type": "stream",
     "text": [
      "Epoch 1/30\n",
      "149/149 [==============================] - 21s 119ms/step - loss: 2.8189 - accuracy: 0.2708 - val_loss: 1.3224 - val_accuracy: 0.6139\n",
      "Epoch 2/30\n",
      "149/149 [==============================] - 14s 93ms/step - loss: 1.2322 - accuracy: 0.6368 - val_loss: 1.0250 - val_accuracy: 0.6899\n",
      "Epoch 3/30\n",
      "149/149 [==============================] - 14s 92ms/step - loss: 0.8731 - accuracy: 0.7373 - val_loss: 0.8634 - val_accuracy: 0.7354\n",
      "Epoch 4/30\n",
      "149/149 [==============================] - 14s 93ms/step - loss: 0.6932 - accuracy: 0.7898 - val_loss: 0.7183 - val_accuracy: 0.7799\n",
      "Epoch 5/30\n",
      "149/149 [==============================] - 14s 93ms/step - loss: 0.5561 - accuracy: 0.8294 - val_loss: 0.6429 - val_accuracy: 0.8015\n",
      "Epoch 6/30\n",
      "149/149 [==============================] - 14s 93ms/step - loss: 0.4513 - accuracy: 0.8643 - val_loss: 0.6009 - val_accuracy: 0.8155\n",
      "Epoch 7/30\n",
      "149/149 [==============================] - 14s 93ms/step - loss: 0.3763 - accuracy: 0.8867 - val_loss: 0.5613 - val_accuracy: 0.8293\n",
      "Epoch 8/30\n",
      "149/149 [==============================] - 14s 93ms/step - loss: 0.3201 - accuracy: 0.9037 - val_loss: 0.5615 - val_accuracy: 0.8311\n",
      "Epoch 9/30\n",
      "149/149 [==============================] - 14s 92ms/step - loss: 0.2748 - accuracy: 0.9168 - val_loss: 0.5388 - val_accuracy: 0.8370\n",
      "Epoch 10/30\n",
      "149/149 [==============================] - 14s 92ms/step - loss: 0.2317 - accuracy: 0.9308 - val_loss: 0.5280 - val_accuracy: 0.8390\n",
      "Epoch 11/30\n",
      "149/149 [==============================] - 14s 92ms/step - loss: 0.1996 - accuracy: 0.9415 - val_loss: 0.5088 - val_accuracy: 0.8420\n",
      "Epoch 12/30\n",
      "149/149 [==============================] - 14s 93ms/step - loss: 0.1736 - accuracy: 0.9492 - val_loss: 0.5076 - val_accuracy: 0.8474\n",
      "Epoch 13/30\n",
      "149/149 [==============================] - 14s 92ms/step - loss: 0.1537 - accuracy: 0.9553 - val_loss: 0.5365 - val_accuracy: 0.8394\n",
      "Epoch 14/30\n",
      "149/149 [==============================] - 14s 92ms/step - loss: 0.1369 - accuracy: 0.9610 - val_loss: 0.5099 - val_accuracy: 0.8488\n",
      "Epoch 15/30\n",
      "149/149 [==============================] - 14s 93ms/step - loss: 0.1258 - accuracy: 0.9648 - val_loss: 0.5291 - val_accuracy: 0.8488\n",
      "Epoch 16/30\n",
      "149/149 [==============================] - 14s 92ms/step - loss: 0.1208 - accuracy: 0.9664 - val_loss: 0.4951 - val_accuracy: 0.8603\n",
      "Epoch 17/30\n",
      "149/149 [==============================] - 14s 93ms/step - loss: 0.0924 - accuracy: 0.9765 - val_loss: 0.4964 - val_accuracy: 0.8623\n",
      "Epoch 18/30\n",
      "149/149 [==============================] - 14s 93ms/step - loss: 0.0827 - accuracy: 0.9785 - val_loss: 0.5093 - val_accuracy: 0.8606\n",
      "Epoch 19/30\n",
      "149/149 [==============================] - 14s 92ms/step - loss: 0.0718 - accuracy: 0.9829 - val_loss: 0.4932 - val_accuracy: 0.8636\n",
      "Epoch 20/30\n",
      "149/149 [==============================] - 14s 93ms/step - loss: 0.0601 - accuracy: 0.9875 - val_loss: 0.4834 - val_accuracy: 0.8650\n",
      "Epoch 21/30\n",
      "149/149 [==============================] - 14s 92ms/step - loss: 0.0537 - accuracy: 0.9892 - val_loss: 0.4908 - val_accuracy: 0.8628\n",
      "Epoch 22/30\n",
      "149/149 [==============================] - 14s 92ms/step - loss: 0.0511 - accuracy: 0.9903 - val_loss: 0.4827 - val_accuracy: 0.8640\n",
      "Epoch 23/30\n",
      "149/149 [==============================] - 14s 92ms/step - loss: 0.0462 - accuracy: 0.9903 - val_loss: 0.5041 - val_accuracy: 0.8603\n",
      "Epoch 24/30\n",
      "149/149 [==============================] - 14s 92ms/step - loss: 0.0433 - accuracy: 0.9916 - val_loss: 0.4844 - val_accuracy: 0.8646\n",
      "Epoch 25/30\n",
      "149/149 [==============================] - 14s 92ms/step - loss: 0.0392 - accuracy: 0.9931 - val_loss: 0.4654 - val_accuracy: 0.8694\n",
      "Epoch 26/30\n",
      "149/149 [==============================] - 14s 92ms/step - loss: 0.0356 - accuracy: 0.9948 - val_loss: 0.4732 - val_accuracy: 0.8680\n",
      "Epoch 27/30\n",
      "149/149 [==============================] - 14s 92ms/step - loss: 0.0327 - accuracy: 0.9955 - val_loss: 0.4637 - val_accuracy: 0.8726\n",
      "Epoch 28/30\n",
      "149/149 [==============================] - 14s 93ms/step - loss: 0.0326 - accuracy: 0.9953 - val_loss: 0.4670 - val_accuracy: 0.8718\n",
      "Epoch 29/30\n",
      "149/149 [==============================] - 14s 92ms/step - loss: 0.0309 - accuracy: 0.9958 - val_loss: 0.4644 - val_accuracy: 0.8734\n",
      "Epoch 30/30\n",
      "149/149 [==============================] - 14s 92ms/step - loss: 0.0283 - accuracy: 0.9963 - val_loss: 0.4653 - val_accuracy: 0.8722\n"
     ]
    }
   ],
   "source": [
    "# Train.\n",
    "# strategy = tf.distribute.get_strategy()\n",
    "history = model.fit(\n",
    "    dataset_train,\n",
    "    validation_data=dataset_val,\n",
    "    epochs=epochs,\n",
    "    verbose=1,\n",
    ")"
   ]
  },
  {
   "cell_type": "code",
   "execution_count": 10,
   "metadata": {},
   "outputs": [
    {
     "name": "stderr",
     "output_type": "stream",
     "text": [
      "/tmp/ipykernel_11087/2114538881.py:3: UserWarning: Matplotlib is currently using module://matplotlib_inline.backend_inline, which is a non-GUI backend, so cannot show the figure.\n",
      "  fig.show()\n"
     ]
    },
    {
     "data": {
      "image/png": "[encoded data removed]",
      "text/plain": [
       "<Figure size 432x288 with 1 Axes>"
      ]
     },
     "metadata": {},
     "output_type": "display_data"
    },
    {
     "data": {
      "image/png": "[encoded data removed]",
      "text/plain": [
       "<Figure size 432x288 with 1 Axes>"
      ]
     },
     "metadata": {},
     "output_type": "display_data"
    }
   ],
   "source": [
    "for key in ['loss']+metrics:\n",
    "    fig = ml.visualization.plot_metric(history.history, key)\n",
    "    fig.show()"
   ]
  },
  {
   "cell_type": "code",
   "execution_count": null,
   "metadata": {},
   "outputs": [],
   "source": []
  }
 ],
 "metadata": {
  "kernelspec": {
   "display_name": "Python 3.9.12 ('tf-p100')",
   "language": "python",
   "name": "python3"
  },
  "language_info": {
   "codemirror_mode": {
    "name": "ipython",
    "version": 3
   },
   "file_extension": ".py",
   "mimetype": "text/x-python",
   "name": "python",
   "nbconvert_exporter": "python",
   "pygments_lexer": "ipython3",
   "version": "3.9.12"
  },
  "orig_nbformat": 4,
  "vscode": {
   "interpreter": {
    "hash": "f9d28b892dbcf26bab028d0e176e36bb3090c4acb3765664e3f159d722d1b85e"
   }
  }
 },
 "nbformat": 4,
 "nbformat_minor": 2
}
