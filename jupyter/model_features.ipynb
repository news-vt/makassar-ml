{
 "cells": [
  {
   "cell_type": "code",
   "execution_count": 58,
   "source": [
    "import numpy as np\n",
    "import os\n",
    "import pandas as pd"
   ],
   "outputs": [],
   "metadata": {}
  },
  {
   "cell_type": "markdown",
   "source": [
    "## Load Dataset: Beijing PM2.5"
   ],
   "metadata": {}
  },
  {
   "cell_type": "code",
   "execution_count": 59,
   "source": [
    "dataset_root = \"../datasets/\"\n",
    "csvfile = os.path.join(dataset_root, \"beijing_pm2.5\", \"PRSA_data_2010.1.1-2014.12.31.csv\")\n",
    "fields = ['year','month','day','DEWP','TEMP','PRES','Is','Ir'] # Specific columns to use.\n",
    "df = pd.read_csv(csvfile, usecols=fields)\n",
    "df.info()"
   ],
   "outputs": [
    {
     "output_type": "stream",
     "name": "stdout",
     "text": [
      "<class 'pandas.core.frame.DataFrame'>\n",
      "RangeIndex: 43824 entries, 0 to 43823\n",
      "Data columns (total 8 columns):\n",
      " #   Column  Non-Null Count  Dtype  \n",
      "---  ------  --------------  -----  \n",
      " 0   year    43824 non-null  int64  \n",
      " 1   month   43824 non-null  int64  \n",
      " 2   day     43824 non-null  int64  \n",
      " 3   DEWP    43824 non-null  int64  \n",
      " 4   TEMP    43824 non-null  float64\n",
      " 5   PRES    43824 non-null  float64\n",
      " 6   Is      43824 non-null  int64  \n",
      " 7   Ir      43824 non-null  int64  \n",
      "dtypes: float64(2), int64(6)\n",
      "memory usage: 2.7 MB\n"
     ]
    }
   ],
   "metadata": {}
  },
  {
   "cell_type": "markdown",
   "source": [
    "## Feature Definitions\n",
    "\n",
    "List of plants to grow, with scores that rate their performance in a given interval of time. Scores should be floating-point numbers within a range (possibly from `[0,10]`) for each plant. The score matrix should have columns that correspond to each plant, and rows that correspond to each time interval.\n",
    "\n",
    "For example:\n",
    "```python\n",
    "features = ['tomato', 'sunflower', 'cucumber']\n",
    "scores = [[3, 7, 10], [2, 1, 5], [7, 9, 11]]\n",
    "```\n",
    "\n",
    "**Note**: The scores should eventually be normalized between `[0,1]` to accommodate different input score ranges."
   ],
   "metadata": {}
  },
  {
   "cell_type": "code",
   "execution_count": 60,
   "source": [
    "# Add feature scores to the dataset.\n",
    "# These scores should be normalized between [0,1].\n",
    "features = ['tomato', 'sunflower', 'cucumber']\n",
    "df = df.assign(**{feat:np.random.uniform(0.0, 1.0, size=df.shape[0]) for feat in features})\n",
    "df.info()"
   ],
   "outputs": [
    {
     "output_type": "stream",
     "name": "stdout",
     "text": [
      "<class 'pandas.core.frame.DataFrame'>\n",
      "RangeIndex: 43824 entries, 0 to 43823\n",
      "Data columns (total 11 columns):\n",
      " #   Column     Non-Null Count  Dtype  \n",
      "---  ------     --------------  -----  \n",
      " 0   year       43824 non-null  int64  \n",
      " 1   month      43824 non-null  int64  \n",
      " 2   day        43824 non-null  int64  \n",
      " 3   DEWP       43824 non-null  int64  \n",
      " 4   TEMP       43824 non-null  float64\n",
      " 5   PRES       43824 non-null  float64\n",
      " 6   Is         43824 non-null  int64  \n",
      " 7   Ir         43824 non-null  int64  \n",
      " 8   tomato     43824 non-null  float64\n",
      " 9   sunflower  43824 non-null  float64\n",
      " 10  cucumber   43824 non-null  float64\n",
      "dtypes: float64(5), int64(6)\n",
      "memory usage: 3.7 MB\n"
     ]
    }
   ],
   "metadata": {}
  },
  {
   "cell_type": "code",
   "execution_count": 62,
   "source": [
    "# Ensure rows are in time-sorted ascending order.\n",
    "df = df.sort_values(['year','month','day'], ascending=[True,True,True])"
   ],
   "outputs": [],
   "metadata": {}
  },
  {
   "cell_type": "code",
   "execution_count": null,
   "source": [],
   "outputs": [],
   "metadata": {}
  }
 ],
 "metadata": {
  "orig_nbformat": 4,
  "language_info": {
   "name": "python",
   "version": "3.9.2",
   "mimetype": "text/x-python",
   "codemirror_mode": {
    "name": "ipython",
    "version": 3
   },
   "pygments_lexer": "ipython3",
   "nbconvert_exporter": "python",
   "file_extension": ".py"
  },
  "kernelspec": {
   "name": "python3",
   "display_name": "Python 3.9.2 64-bit ('makassar-ml-EGH73JnW': pipenv)"
  },
  "interpreter": {
   "hash": "6d6c3969231f4fc6b0cdbe856b8e086a03066c5c6134c5524a8c1eed6abfc81c"
  }
 },
 "nbformat": 4,
 "nbformat_minor": 2
}