{
 "cells": [
  {
   "cell_type": "code",
   "execution_count": 10,
   "source": [
    "import numpy as np\n",
    "import pandas as pd"
   ],
   "outputs": [],
   "metadata": {}
  },
  {
   "cell_type": "markdown",
   "source": [
    "## Load Dataset: Beijing PM2.5"
   ],
   "metadata": {}
  },
  {
   "cell_type": "code",
   "execution_count": 11,
   "source": [
    "dataset_root = \"../datasets/\"\n",
    "csvfile = os.path.join(dataset_root, \"beijing_pm2.5\", \"PRSA_data_2010.1.1-2014.12.31.csv\")\n",
    "df = pd.read_csv(csvfile)\n",
    "df.info()"
   ],
   "outputs": [
    {
     "output_type": "stream",
     "name": "stdout",
     "text": [
      "<class 'pandas.core.frame.DataFrame'>\n",
      "RangeIndex: 43824 entries, 0 to 43823\n",
      "Data columns (total 13 columns):\n",
      " #   Column  Non-Null Count  Dtype  \n",
      "---  ------  --------------  -----  \n",
      " 0   No      43824 non-null  int64  \n",
      " 1   year    43824 non-null  int64  \n",
      " 2   month   43824 non-null  int64  \n",
      " 3   day     43824 non-null  int64  \n",
      " 4   hour    43824 non-null  int64  \n",
      " 5   pm2.5   41757 non-null  float64\n",
      " 6   DEWP    43824 non-null  int64  \n",
      " 7   TEMP    43824 non-null  float64\n",
      " 8   PRES    43824 non-null  float64\n",
      " 9   cbwd    43824 non-null  object \n",
      " 10  Iws     43824 non-null  float64\n",
      " 11  Is      43824 non-null  int64  \n",
      " 12  Ir      43824 non-null  int64  \n",
      "dtypes: float64(4), int64(8), object(1)\n",
      "memory usage: 4.3+ MB\n"
     ]
    }
   ],
   "metadata": {}
  },
  {
   "cell_type": "markdown",
   "source": [
    "## Feature Definitions\n",
    "\n",
    "List of plants to grow, with scores that rate their performance in a given interval of time. Scores should be floating-point numbers within a range (possibly from `[0,10]`) for each plant. The score matrix should have columns that correspond to each plant, and rows that correspond to each time interval.\n",
    "\n",
    "For example:\n",
    "```python\n",
    "features = ['tomato', 'sunflower', 'cucumber']\n",
    "scores = [[3, 7, 10], [2, 1, 5], [7, 9, 11]]\n",
    "```"
   ],
   "metadata": {}
  },
  {
   "cell_type": "code",
   "execution_count": 15,
   "source": [
    "features = ['tomato', 'sunflower', 'cucumber']\n",
    "scores = np.random.uniform(0.0, 10.0, size=(df.shape[0],len(features))) # Random matrix of scores between [0,10]"
   ],
   "outputs": [],
   "metadata": {}
  },
  {
   "cell_type": "code",
   "execution_count": 16,
   "source": [
    "scores"
   ],
   "outputs": [
    {
     "output_type": "execute_result",
     "data": {
      "text/plain": [
       "array([[7.77168866, 2.18008585, 7.12964378],\n",
       "       [7.66446765, 3.01934004, 2.99664256],\n",
       "       [6.71976144, 7.750026  , 0.43848982],\n",
       "       ...,\n",
       "       [3.30067684, 6.81362248, 6.6527205 ],\n",
       "       [0.44770491, 1.02317399, 9.40958871],\n",
       "       [4.052097  , 8.54071029, 6.22722581]])"
      ]
     },
     "metadata": {},
     "execution_count": 16
    }
   ],
   "metadata": {}
  },
  {
   "cell_type": "code",
   "execution_count": null,
   "source": [],
   "outputs": [],
   "metadata": {}
  }
 ],
 "metadata": {
  "orig_nbformat": 4,
  "language_info": {
   "name": "python",
   "version": "3.9.2",
   "mimetype": "text/x-python",
   "codemirror_mode": {
    "name": "ipython",
    "version": 3
   },
   "pygments_lexer": "ipython3",
   "nbconvert_exporter": "python",
   "file_extension": ".py"
  },
  "kernelspec": {
   "name": "python3",
   "display_name": "Python 3.9.2 64-bit ('makassar-ml-EGH73JnW': pipenv)"
  },
  "interpreter": {
   "hash": "6d6c3969231f4fc6b0cdbe856b8e086a03066c5c6134c5524a8c1eed6abfc81c"
  }
 },
 "nbformat": 4,
 "nbformat_minor": 2
}