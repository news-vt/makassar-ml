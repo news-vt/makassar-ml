{
 "cells": [
  {
   "cell_type": "code",
   "execution_count": 7,
   "metadata": {},
   "outputs": [
    {
     "name": "stdout",
     "output_type": "stream",
     "text": [
      "The autoreload extension is already loaded. To reload it, use:\n",
      "  %reload_ext autoreload\n",
      "Num GPUs Available: 1\n",
      "Name: /physical_device:GPU:0, Type: GPU\n"
     ]
    }
   ],
   "source": [
    "%load_ext autoreload\n",
    "%autoreload 2\n",
    "\n",
    "from __future__ import annotations\n",
    "\n",
    "# Add parent directory to path.\n",
    "from pathlib import Path\n",
    "import os\n",
    "import sys\n",
    "os.environ['TF_CPP_MIN_LOG_LEVEL'] = '2' # https://stackoverflow.com/a/64438413\n",
    "fdir = Path(os.path.abspath('')).resolve() # Directory of current file.\n",
    "path = fdir/'..'\n",
    "if path not in sys.path:\n",
    "    sys.path.append(str(path))\n",
    "\n",
    "# Complete imports.\n",
    "from functools import partial\n",
    "import makassar_ml as ml\n",
    "import matplotlib.pyplot as plt\n",
    "import numpy as np\n",
    "import pandas as pd\n",
    "import tensorflow as tf\n",
    "import tensorflow.keras as keras\n",
    "import tensorflow_datasets as tfds\n",
    "import seaborn as sns\n",
    "from sklearn.model_selection import ParameterGrid\n",
    "sns.set() # Use seaborn themes.\n",
    "\n",
    "# List all GPUs visible to TensorFlow.\n",
    "gpus = tf.config.list_physical_devices('GPU')\n",
    "print(f\"Num GPUs Available: {len(gpus)}\")\n",
    "for gpu in gpus:\n",
    "    print(f\"Name: {gpu.name}, Type: {gpu.device_type}\")"
   ]
  },
  {
   "cell_type": "code",
   "execution_count": 8,
   "metadata": {},
   "outputs": [],
   "source": [
    "keras.backend.clear_session()"
   ]
  },
  {
   "cell_type": "code",
   "execution_count": 9,
   "metadata": {},
   "outputs": [],
   "source": [
    "# Configure root paths.\n",
    "config_roots = dict(\n",
    "    hp_tuning_root=Path('~/research/makassar/hp_tuning').expanduser(),\n",
    ")"
   ]
  },
  {
   "cell_type": "code",
   "execution_count": 10,
   "metadata": {},
   "outputs": [],
   "source": [
    "epochs = 30\n",
    "batch_size = 256"
   ]
  },
  {
   "cell_type": "code",
   "execution_count": 11,
   "metadata": {},
   "outputs": [
    {
     "name": "stdout",
     "output_type": "stream",
     "text": [
      "WARNING:tensorflow:AutoGraph could not transform <function load_data.<locals>.<lambda> at 0x2aabe6ff4700> and will run it as-is.\n",
      "Cause: could not parse the source code of <function load_data.<locals>.<lambda> at 0x2aabe6ff4700>: no matching AST found\n",
      "To silence this warning, decorate the function with @tf.autograph.experimental.do_not_convert\n"
     ]
    },
    {
     "name": "stderr",
     "output_type": "stream",
     "text": [
      "WARNING:tensorflow:AutoGraph could not transform <function load_data.<locals>.<lambda> at 0x2aabe6ff4700> and will run it as-is.\n",
      "Cause: could not parse the source code of <function load_data.<locals>.<lambda> at 0x2aabe6ff4700>: no matching AST found\n",
      "To silence this warning, decorate the function with @tf.autograph.experimental.do_not_convert\n"
     ]
    },
    {
     "name": "stdout",
     "output_type": "stream",
     "text": [
      "WARNING: AutoGraph could not transform <function load_data.<locals>.<lambda> at 0x2aabe6ff4700> and will run it as-is.\n",
      "Cause: could not parse the source code of <function load_data.<locals>.<lambda> at 0x2aabe6ff4700>: no matching AST found\n",
      "To silence this warning, decorate the function with @tf.autograph.experimental.do_not_convert\n",
      "WARNING:tensorflow:AutoGraph could not transform <function load_data.<locals>.<lambda> at 0x2aabe6ff4af0> and will run it as-is.\n",
      "Cause: could not parse the source code of <function load_data.<locals>.<lambda> at 0x2aabe6ff4af0>: no matching AST found\n",
      "To silence this warning, decorate the function with @tf.autograph.experimental.do_not_convert\n"
     ]
    },
    {
     "name": "stderr",
     "output_type": "stream",
     "text": [
      "WARNING:tensorflow:AutoGraph could not transform <function load_data.<locals>.<lambda> at 0x2aabe6ff4af0> and will run it as-is.\n",
      "Cause: could not parse the source code of <function load_data.<locals>.<lambda> at 0x2aabe6ff4af0>: no matching AST found\n",
      "To silence this warning, decorate the function with @tf.autograph.experimental.do_not_convert\n"
     ]
    },
    {
     "name": "stdout",
     "output_type": "stream",
     "text": [
      "WARNING: AutoGraph could not transform <function load_data.<locals>.<lambda> at 0x2aabe6ff4af0> and will run it as-is.\n",
      "Cause: could not parse the source code of <function load_data.<locals>.<lambda> at 0x2aabe6ff4af0>: no matching AST found\n",
      "To silence this warning, decorate the function with @tf.autograph.experimental.do_not_convert\n",
      "WARNING:tensorflow:AutoGraph could not transform <function load_data.<locals>.<lambda> at 0x2aabe704b040> and will run it as-is.\n",
      "Cause: could not parse the source code of <function load_data.<locals>.<lambda> at 0x2aabe704b040>: no matching AST found\n",
      "To silence this warning, decorate the function with @tf.autograph.experimental.do_not_convert\n"
     ]
    },
    {
     "name": "stderr",
     "output_type": "stream",
     "text": [
      "WARNING:tensorflow:AutoGraph could not transform <function load_data.<locals>.<lambda> at 0x2aabe704b040> and will run it as-is.\n",
      "Cause: could not parse the source code of <function load_data.<locals>.<lambda> at 0x2aabe704b040>: no matching AST found\n",
      "To silence this warning, decorate the function with @tf.autograph.experimental.do_not_convert\n"
     ]
    },
    {
     "name": "stdout",
     "output_type": "stream",
     "text": [
      "WARNING: AutoGraph could not transform <function load_data.<locals>.<lambda> at 0x2aabe704b040> and will run it as-is.\n",
      "Cause: could not parse the source code of <function load_data.<locals>.<lambda> at 0x2aabe704b040>: no matching AST found\n",
      "To silence this warning, decorate the function with @tf.autograph.experimental.do_not_convert\n",
      "WARNING:tensorflow:AutoGraph could not transform <function load_data.<locals>.<lambda> at 0x2aabe704baf0> and will run it as-is.\n",
      "Cause: could not parse the source code of <function load_data.<locals>.<lambda> at 0x2aabe704baf0>: no matching AST found\n",
      "To silence this warning, decorate the function with @tf.autograph.experimental.do_not_convert\n"
     ]
    },
    {
     "name": "stderr",
     "output_type": "stream",
     "text": [
      "WARNING:tensorflow:AutoGraph could not transform <function load_data.<locals>.<lambda> at 0x2aabe704baf0> and will run it as-is.\n",
      "Cause: could not parse the source code of <function load_data.<locals>.<lambda> at 0x2aabe704baf0>: no matching AST found\n",
      "To silence this warning, decorate the function with @tf.autograph.experimental.do_not_convert\n"
     ]
    },
    {
     "name": "stdout",
     "output_type": "stream",
     "text": [
      "WARNING: AutoGraph could not transform <function load_data.<locals>.<lambda> at 0x2aabe704baf0> and will run it as-is.\n",
      "Cause: could not parse the source code of <function load_data.<locals>.<lambda> at 0x2aabe704baf0>: no matching AST found\n",
      "To silence this warning, decorate the function with @tf.autograph.experimental.do_not_convert\n",
      "WARNING:tensorflow:AutoGraph could not transform <function load_data.<locals>.<lambda> at 0x2aabe704bc10> and will run it as-is.\n",
      "Cause: could not parse the source code of <function load_data.<locals>.<lambda> at 0x2aabe704bc10>: no matching AST found\n",
      "To silence this warning, decorate the function with @tf.autograph.experimental.do_not_convert\n"
     ]
    },
    {
     "name": "stderr",
     "output_type": "stream",
     "text": [
      "WARNING:tensorflow:AutoGraph could not transform <function load_data.<locals>.<lambda> at 0x2aabe704bc10> and will run it as-is.\n",
      "Cause: could not parse the source code of <function load_data.<locals>.<lambda> at 0x2aabe704bc10>: no matching AST found\n",
      "To silence this warning, decorate the function with @tf.autograph.experimental.do_not_convert\n"
     ]
    },
    {
     "name": "stdout",
     "output_type": "stream",
     "text": [
      "WARNING: AutoGraph could not transform <function load_data.<locals>.<lambda> at 0x2aabe704bc10> and will run it as-is.\n",
      "Cause: could not parse the source code of <function load_data.<locals>.<lambda> at 0x2aabe704bc10>: no matching AST found\n",
      "To silence this warning, decorate the function with @tf.autograph.experimental.do_not_convert\n",
      "WARNING:tensorflow:AutoGraph could not transform <function load_data.<locals>.<lambda> at 0x2aabe7036670> and will run it as-is.\n",
      "Cause: could not parse the source code of <function load_data.<locals>.<lambda> at 0x2aabe7036670>: no matching AST found\n",
      "To silence this warning, decorate the function with @tf.autograph.experimental.do_not_convert\n"
     ]
    },
    {
     "name": "stderr",
     "output_type": "stream",
     "text": [
      "WARNING:tensorflow:AutoGraph could not transform <function load_data.<locals>.<lambda> at 0x2aabe7036670> and will run it as-is.\n",
      "Cause: could not parse the source code of <function load_data.<locals>.<lambda> at 0x2aabe7036670>: no matching AST found\n",
      "To silence this warning, decorate the function with @tf.autograph.experimental.do_not_convert\n"
     ]
    },
    {
     "name": "stdout",
     "output_type": "stream",
     "text": [
      "WARNING: AutoGraph could not transform <function load_data.<locals>.<lambda> at 0x2aabe7036670> and will run it as-is.\n",
      "Cause: could not parse the source code of <function load_data.<locals>.<lambda> at 0x2aabe7036670>: no matching AST found\n",
      "To silence this warning, decorate the function with @tf.autograph.experimental.do_not_convert\n"
     ]
    }
   ],
   "source": [
    "# Load the dataset.\n",
    "dataset_kwargs = dict(\n",
    "    timeseries_path=str(Path('~/research/makassar/datasets/beijing_pm25').expanduser()),\n",
    "    timeseries_datetime_column='datetime',\n",
    "    timeseries_features_in=['TEMP','DEWP','PRES','Iws'],\n",
    "    timeseries_seq_len_in=24,\n",
    "    timeseries_reserve_offset_index=24,\n",
    "    image_shape=[72,72,3],\n",
    "    split=[0.7,0.2,0.1],\n",
    "    shuffle_files=False,\n",
    ")\n",
    "dataset_train, dataset_val, dataset_test = ml.datasets.fused_plant_village_beijingpm25_classification.load_data(\n",
    "    **dataset_kwargs,\n",
    "    batch_size=batch_size,\n",
    ")\n",
    "n_batches = tf.data.experimental.cardinality(dataset_train)\n",
    "n_steps = n_batches*epochs"
   ]
  },
  {
   "cell_type": "code",
   "execution_count": 12,
   "metadata": {},
   "outputs": [
    {
     "name": "stdout",
     "output_type": "stream",
     "text": [
      "b_image.shape=TensorShape([256, 72, 72, 3])\n",
      "b_ts_in.shape=TensorShape([256, 24, 4])\n",
      "b_label.shape=TensorShape([256])\n",
      "b_image.shape=TensorShape([256, 72, 72, 3])\n",
      "b_ts_in.shape=TensorShape([256, 24, 4])\n",
      "b_label.shape=TensorShape([256])\n",
      "b_image.shape=TensorShape([256, 72, 72, 3])\n",
      "b_ts_in.shape=TensorShape([256, 24, 4])\n",
      "b_label.shape=TensorShape([256])\n"
     ]
    }
   ],
   "source": [
    "for i,((b_image, b_ts_in), b_label) in enumerate(dataset_train):\n",
    "    print(f\"{b_image.shape=}\")\n",
    "    print(f\"{b_ts_in.shape=}\")\n",
    "    print(f\"{b_label.shape=}\")\n",
    "    break\n",
    "\n",
    "for i,((b_image, b_ts_in), b_label) in enumerate(dataset_val):\n",
    "    print(f\"{b_image.shape=}\")\n",
    "    print(f\"{b_ts_in.shape=}\")\n",
    "    print(f\"{b_label.shape=}\")\n",
    "    break\n",
    "\n",
    "for i,((b_image, b_ts_in), b_label) in enumerate(dataset_test):\n",
    "    print(f\"{b_image.shape=}\")\n",
    "    print(f\"{b_ts_in.shape=}\")\n",
    "    print(f\"{b_label.shape=}\")\n",
    "    break"
   ]
  },
  {
   "cell_type": "code",
   "execution_count": 13,
   "metadata": {},
   "outputs": [
    {
     "name": "stdout",
     "output_type": "stream",
     "text": [
      "epochs=30\n",
      "n_batches=<tf.Tensor: shape=(), dtype=int64, numpy=149>\n",
      "n_steps=<tf.Tensor: shape=(), dtype=int64, numpy=4470>\n"
     ]
    }
   ],
   "source": [
    "print(f\"{epochs=}\")\n",
    "print(f\"{n_batches=}\")\n",
    "print(f\"{n_steps=}\")"
   ]
  },
  {
   "cell_type": "code",
   "execution_count": 15,
   "metadata": {},
   "outputs": [
    {
     "name": "stdout",
     "output_type": "stream",
     "text": [
      "Model: \"model_2\"\n",
      "__________________________________________________________________________________________________\n",
      "Layer (type)                    Output Shape         Param #     Connected to                     \n",
      "==================================================================================================\n",
      "input_1 (InputLayer)            [(None, 72, 72, 3)]  0                                            \n",
      "__________________________________________________________________________________________________\n",
      "input_2 (InputLayer)            [(None, 24, 4)]      0                                            \n",
      "__________________________________________________________________________________________________\n",
      "patches (Patches)               (None, 144, 108)     0           input_1[0][0]                    \n",
      "__________________________________________________________________________________________________\n",
      "time2_vec (Time2Vec)            (None, 24, 20)       528         input_2[0][0]                    \n",
      "__________________________________________________________________________________________________\n",
      "patch_encoder (PatchEncoder)    (None, 144, 16)      4048        patches[0][0]                    \n",
      "__________________________________________________________________________________________________\n",
      "concatenate (Concatenate)       (None, 24, 24)       0           input_2[0][0]                    \n",
      "                                                                 time2_vec[0][0]                  \n",
      "__________________________________________________________________________________________________\n",
      "branch_0 (Sequential)           (None, 144, 16)      28848       patch_encoder[0][0]              \n",
      "__________________________________________________________________________________________________\n",
      "branch_1 (Sequential)           (None, 24, 24)       45192       concatenate[0][0]                \n",
      "__________________________________________________________________________________________________\n",
      "classifier (ClassificationTaskH (None, 38)           109478      branch_0[0][0]                   \n",
      "                                                                 branch_1[0][0]                   \n",
      "==================================================================================================\n",
      "Total params: 188,094\n",
      "Trainable params: 188,094\n",
      "Non-trainable params: 0\n",
      "__________________________________________________________________________________________________\n"
     ]
    }
   ],
   "source": [
    "# Build and compile the model.\n",
    "model = ml.models.FuT_image_timeseries_classifier(\n",
    "    image_shape=dataset_kwargs['image_shape'],\n",
    "    seq_shape=(dataset_kwargs['timeseries_reserve_offset_index'],len(dataset_kwargs['timeseries_features_in'])),\n",
    "    n_class=38,\n",
    "    patch_size=6,\n",
    "    image_embed_dim=16,\n",
    "    seq_embed_dim=5,\n",
    "    n_heads=8,\n",
    "    ff_dim=256,\n",
    "    dropout=0.1,\n",
    "    n_encoders=3,\n",
    "    fc_units=[],\n",
    ")\n",
    "# optimizer = keras.optimizers.Adam(learning_rate=1e-3)\n",
    "# optimizer = keras.optimizers.Adam(\n",
    "#     keras.experimental.CosineDecayRestarts(\n",
    "#         initial_learning_rate=1e-3,\n",
    "#         first_decay_steps=1000,\n",
    "#         )\n",
    "# )\n",
    "learning_rate = keras.experimental.CosineDecay(\n",
    "    initial_learning_rate=1e-3,\n",
    "    decay_steps=n_steps,\n",
    "    alpha=0.1,\n",
    ")\n",
    "# learning_rate = keras.experimental.CosineDecayRestarts(\n",
    "#     initial_learning_rate=1e-3,\n",
    "#     first_decay_steps=n_steps//3,\n",
    "#     m_mul=0.8,\n",
    "# )\n",
    "optimizer = keras.optimizers.Adam(learning_rate=learning_rate)\n",
    "metrics = ['accuracy']\n",
    "model.compile(\n",
    "    optimizer=optimizer,\n",
    "    loss='sparse_categorical_crossentropy',\n",
    "    metrics=metrics,\n",
    ")\n",
    "model.summary()"
   ]
  },
  {
   "cell_type": "code",
   "execution_count": 16,
   "metadata": {},
   "outputs": [
    {
     "data": {
      "text/plain": [
       "(<tf.Tensor: shape=(), dtype=float32, numpy=0.001>,\n",
       " <tf.Tensor: shape=(), dtype=float32, numpy=0.000100000114>)"
      ]
     },
     "execution_count": 16,
     "metadata": {},
     "output_type": "execute_result"
    },
    {
     "data": {
      "image/png": "[encoded data removed]",
      "text/plain": [
       "<Figure size 432x288 with 1 Axes>"
      ]
     },
     "metadata": {},
     "output_type": "display_data"
    }
   ],
   "source": [
    "steps = np.arange(n_steps)\n",
    "lrs = learning_rate(steps)\n",
    "plt.plot(steps, lrs)\n",
    "lrs[0],lrs[-1]"
   ]
  },
  {
   "cell_type": "code",
   "execution_count": 17,
   "metadata": {},
   "outputs": [
    {
     "name": "stdout",
     "output_type": "stream",
     "text": [
      "Epoch 1/30\n",
      "149/149 [==============================] - 134s 861ms/step - loss: 2.6958 - accuracy: 0.3025 - val_loss: 1.3787 - val_accuracy: 0.5955\n",
      "Epoch 2/30\n",
      "149/149 [==============================] - 15s 103ms/step - loss: 1.2036 - accuracy: 0.6436 - val_loss: 1.0082 - val_accuracy: 0.6942\n",
      "Epoch 3/30\n",
      "149/149 [==============================] - 15s 103ms/step - loss: 0.8255 - accuracy: 0.7540 - val_loss: 0.8243 - val_accuracy: 0.7503\n",
      "Epoch 4/30\n",
      "149/149 [==============================] - 16s 104ms/step - loss: 0.6278 - accuracy: 0.8093 - val_loss: 0.7902 - val_accuracy: 0.7597\n",
      "Epoch 5/30\n",
      "149/149 [==============================] - 15s 103ms/step - loss: 0.5183 - accuracy: 0.8418 - val_loss: 0.7108 - val_accuracy: 0.7865\n",
      "Epoch 6/30\n",
      "149/149 [==============================] - 15s 104ms/step - loss: 0.4291 - accuracy: 0.8688 - val_loss: 0.6818 - val_accuracy: 0.7954\n",
      "Epoch 7/30\n",
      "149/149 [==============================] - 15s 104ms/step - loss: 0.3472 - accuracy: 0.8942 - val_loss: 0.5790 - val_accuracy: 0.8209\n",
      "Epoch 8/30\n",
      "149/149 [==============================] - 15s 104ms/step - loss: 0.2877 - accuracy: 0.9119 - val_loss: 0.5621 - val_accuracy: 0.8301\n",
      "Epoch 9/30\n",
      "149/149 [==============================] - 15s 103ms/step - loss: 0.2446 - accuracy: 0.9259 - val_loss: 0.6095 - val_accuracy: 0.8218\n",
      "Epoch 10/30\n",
      "149/149 [==============================] - 15s 103ms/step - loss: 0.2197 - accuracy: 0.9331 - val_loss: 0.5499 - val_accuracy: 0.8340\n",
      "Epoch 11/30\n",
      "149/149 [==============================] - 15s 103ms/step - loss: 0.1845 - accuracy: 0.9456 - val_loss: 0.5503 - val_accuracy: 0.8352\n",
      "Epoch 12/30\n",
      "149/149 [==============================] - 15s 104ms/step - loss: 0.1609 - accuracy: 0.9524 - val_loss: 0.5274 - val_accuracy: 0.8457\n",
      "Epoch 13/30\n",
      "149/149 [==============================] - 15s 103ms/step - loss: 0.1407 - accuracy: 0.9591 - val_loss: 0.5595 - val_accuracy: 0.8402\n",
      "Epoch 14/30\n",
      "149/149 [==============================] - 15s 103ms/step - loss: 0.1222 - accuracy: 0.9674 - val_loss: 0.5556 - val_accuracy: 0.8393\n",
      "Epoch 15/30\n",
      "149/149 [==============================] - 15s 103ms/step - loss: 0.1093 - accuracy: 0.9702 - val_loss: 0.5554 - val_accuracy: 0.8417\n",
      "Epoch 16/30\n",
      "149/149 [==============================] - 15s 103ms/step - loss: 0.0971 - accuracy: 0.9740 - val_loss: 0.5699 - val_accuracy: 0.8403\n",
      "Epoch 17/30\n",
      "149/149 [==============================] - 15s 103ms/step - loss: 0.0912 - accuracy: 0.9752 - val_loss: 0.5399 - val_accuracy: 0.8492\n",
      "Epoch 18/30\n",
      "149/149 [==============================] - 15s 103ms/step - loss: 0.0729 - accuracy: 0.9808 - val_loss: 0.5634 - val_accuracy: 0.8457\n",
      "Epoch 19/30\n",
      "149/149 [==============================] - 15s 103ms/step - loss: 0.0676 - accuracy: 0.9828 - val_loss: 0.5412 - val_accuracy: 0.8514\n",
      "Epoch 20/30\n",
      "149/149 [==============================] - 15s 103ms/step - loss: 0.0564 - accuracy: 0.9877 - val_loss: 0.5516 - val_accuracy: 0.8541\n",
      "Epoch 21/30\n",
      "149/149 [==============================] - 15s 103ms/step - loss: 0.0497 - accuracy: 0.9896 - val_loss: 0.5608 - val_accuracy: 0.8465\n",
      "Epoch 22/30\n",
      "149/149 [==============================] - 15s 103ms/step - loss: 0.0471 - accuracy: 0.9911 - val_loss: 0.5472 - val_accuracy: 0.8525\n",
      "Epoch 23/30\n",
      "149/149 [==============================] - 15s 103ms/step - loss: 0.0419 - accuracy: 0.9922 - val_loss: 0.5415 - val_accuracy: 0.8560\n",
      "Epoch 24/30\n",
      "149/149 [==============================] - 15s 104ms/step - loss: 0.0365 - accuracy: 0.9947 - val_loss: 0.5193 - val_accuracy: 0.8600\n",
      "Epoch 25/30\n",
      "149/149 [==============================] - 15s 104ms/step - loss: 0.0327 - accuracy: 0.9954 - val_loss: 0.5218 - val_accuracy: 0.8601\n",
      "Epoch 26/30\n",
      "149/149 [==============================] - 15s 103ms/step - loss: 0.0305 - accuracy: 0.9955 - val_loss: 0.5179 - val_accuracy: 0.8630\n",
      "Epoch 27/30\n",
      "149/149 [==============================] - 15s 103ms/step - loss: 0.0281 - accuracy: 0.9962 - val_loss: 0.5257 - val_accuracy: 0.8631\n",
      "Epoch 28/30\n",
      "149/149 [==============================] - 15s 104ms/step - loss: 0.0267 - accuracy: 0.9971 - val_loss: 0.5264 - val_accuracy: 0.8616\n",
      "Epoch 29/30\n",
      "149/149 [==============================] - 15s 103ms/step - loss: 0.0253 - accuracy: 0.9976 - val_loss: 0.5247 - val_accuracy: 0.8631\n",
      "Epoch 30/30\n",
      "149/149 [==============================] - 15s 103ms/step - loss: 0.0246 - accuracy: 0.9976 - val_loss: 0.5261 - val_accuracy: 0.8645\n"
     ]
    }
   ],
   "source": [
    "# Train.\n",
    "# strategy = tf.distribute.get_strategy()\n",
    "history = model.fit(\n",
    "    dataset_train,\n",
    "    validation_data=dataset_val,\n",
    "    epochs=epochs,\n",
    "    verbose=1,\n",
    ")"
   ]
  },
  {
   "cell_type": "code",
   "execution_count": 18,
   "metadata": {},
   "outputs": [
    {
     "name": "stderr",
     "output_type": "stream",
     "text": [
      "/tmp/ipykernel_9941/2114538881.py:3: UserWarning: Matplotlib is currently using module://matplotlib_inline.backend_inline, which is a non-GUI backend, so cannot show the figure.\n",
      "  fig.show()\n"
     ]
    },
    {
     "data": {
      "image/png": "[encoded data removed]",
      "text/plain": [
       "<Figure size 432x288 with 1 Axes>"
      ]
     },
     "metadata": {},
     "output_type": "display_data"
    },
    {
     "data": {
      "image/png": "[encoded data removed]",
      "text/plain": [
       "<Figure size 432x288 with 1 Axes>"
      ]
     },
     "metadata": {},
     "output_type": "display_data"
    }
   ],
   "source": [
    "for key in ['loss']+metrics:\n",
    "    fig = ml.visualization.plot_metric(history.history, key)\n",
    "    fig.show()"
   ]
  },
  {
   "cell_type": "code",
   "execution_count": null,
   "metadata": {},
   "outputs": [],
   "source": []
  }
 ],
 "metadata": {
  "kernelspec": {
   "display_name": "Python 3.9.12 ('tf-p100')",
   "language": "python",
   "name": "python3"
  },
  "language_info": {
   "codemirror_mode": {
    "name": "ipython",
    "version": 3
   },
   "file_extension": ".py",
   "mimetype": "text/x-python",
   "name": "python",
   "nbconvert_exporter": "python",
   "pygments_lexer": "ipython3",
   "version": "3.9.12"
  },
  "orig_nbformat": 4,
  "vscode": {
   "interpreter": {
    "hash": "f9d28b892dbcf26bab028d0e176e36bb3090c4acb3765664e3f159d722d1b85e"
   }
  }
 },
 "nbformat": 4,
 "nbformat_minor": 2
}
