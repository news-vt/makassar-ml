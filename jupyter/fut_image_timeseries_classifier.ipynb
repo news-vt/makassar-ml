{
 "cells": [
  {
   "cell_type": "code",
   "execution_count": 28,
   "metadata": {},
   "outputs": [
    {
     "name": "stdout",
     "output_type": "stream",
     "text": [
      "The autoreload extension is already loaded. To reload it, use:\n",
      "  %reload_ext autoreload\n",
      "Num GPUs Available: 1\n",
      "Name: /physical_device:GPU:0, Type: GPU\n"
     ]
    }
   ],
   "source": [
    "%load_ext autoreload\n",
    "%autoreload 2\n",
    "\n",
    "from __future__ import annotations\n",
    "\n",
    "# Add parent directory to path.\n",
    "from pathlib import Path\n",
    "import os\n",
    "import sys\n",
    "os.environ['TF_CPP_MIN_LOG_LEVEL'] = '2' # https://stackoverflow.com/a/64438413\n",
    "fdir = Path(os.path.abspath('')).resolve() # Directory of current file.\n",
    "path = fdir/'..'\n",
    "if path not in sys.path:\n",
    "    sys.path.append(str(path))\n",
    "\n",
    "# Complete imports.\n",
    "from functools import partial\n",
    "import makassar_ml as ml\n",
    "import matplotlib.pyplot as plt\n",
    "import numpy as np\n",
    "import pandas as pd\n",
    "import tensorflow as tf\n",
    "import tensorflow.keras as keras\n",
    "import tensorflow_datasets as tfds\n",
    "import seaborn as sns\n",
    "from sklearn.model_selection import ParameterGrid\n",
    "sns.set() # Use seaborn themes.\n",
    "\n",
    "# List all GPUs visible to TensorFlow.\n",
    "gpus = tf.config.list_physical_devices('GPU')\n",
    "print(f\"Num GPUs Available: {len(gpus)}\")\n",
    "for gpu in gpus:\n",
    "    print(f\"Name: {gpu.name}, Type: {gpu.device_type}\")"
   ]
  },
  {
   "cell_type": "code",
   "execution_count": 29,
   "metadata": {},
   "outputs": [],
   "source": [
    "keras.backend.clear_session()"
   ]
  },
  {
   "cell_type": "code",
   "execution_count": 30,
   "metadata": {},
   "outputs": [],
   "source": [
    "# Configure root paths.\n",
    "config_roots = dict(\n",
    "    hp_tuning_root=Path('~/research/makassar/hp_tuning').expanduser(),\n",
    ")"
   ]
  },
  {
   "cell_type": "code",
   "execution_count": 31,
   "metadata": {},
   "outputs": [],
   "source": [
    "epochs = 30\n",
    "batch_size = 256"
   ]
  },
  {
   "cell_type": "code",
   "execution_count": 32,
   "metadata": {},
   "outputs": [],
   "source": [
    "# Load the dataset.\n",
    "dataset_kwargs = dict(\n",
    "    timeseries_path=str(Path('~/research/makassar/datasets/beijing_pm25').expanduser()),\n",
    "    timeseries_datetime_column='datetime',\n",
    "    timeseries_features=['TEMP','DEWP','PRES','Iws'],\n",
    "    timeseries_timedelta_dict=dict(hours=24),\n",
    "    timeseries_reserve_offset_index=24+1,\n",
    "    image_shape=[72,72,3],\n",
    "    split=['train[0%:70%]', 'train[70%:90%]', 'train[90%:]'],\n",
    "    shuffle_files=False,\n",
    ")\n",
    "dataset_train, dataset_val, dataset_test = ml.datasets.fused_plant_village_beijingpm25_classification.load_data(\n",
    "    **dataset_kwargs,\n",
    "    batch_size=batch_size,\n",
    ")\n",
    "n_batches = tf.data.experimental.cardinality(dataset_train)\n",
    "n_steps = n_batches*epochs"
   ]
  },
  {
   "cell_type": "code",
   "execution_count": 33,
   "metadata": {},
   "outputs": [
    {
     "name": "stdout",
     "output_type": "stream",
     "text": [
      "epochs=30\n",
      "n_batches=<tf.Tensor: shape=(), dtype=int64, numpy=149>\n",
      "n_steps=<tf.Tensor: shape=(), dtype=int64, numpy=4470>\n"
     ]
    }
   ],
   "source": [
    "print(f\"{epochs=}\")\n",
    "print(f\"{n_batches=}\")\n",
    "print(f\"{n_steps=}\")"
   ]
  },
  {
   "cell_type": "code",
   "execution_count": 34,
   "metadata": {},
   "outputs": [
    {
     "name": "stdout",
     "output_type": "stream",
     "text": [
      "Model: \"model_2\"\n",
      "__________________________________________________________________________________________________\n",
      "Layer (type)                    Output Shape         Param #     Connected to                     \n",
      "==================================================================================================\n",
      "input_1 (InputLayer)            [(None, 72, 72, 3)]  0                                            \n",
      "__________________________________________________________________________________________________\n",
      "input_2 (InputLayer)            [(None, 25, 4)]      0                                            \n",
      "__________________________________________________________________________________________________\n",
      "patches (Patches)               (None, 144, 108)     0           input_1[0][0]                    \n",
      "__________________________________________________________________________________________________\n",
      "time2_vec (Time2Vec)            (None, 25, 20)       550         input_2[0][0]                    \n",
      "__________________________________________________________________________________________________\n",
      "patch_encoder (PatchEncoder)    (None, 144, 16)      4048        patches[0][0]                    \n",
      "__________________________________________________________________________________________________\n",
      "concatenate (Concatenate)       (None, 25, 24)       0           input_2[0][0]                    \n",
      "                                                                 time2_vec[0][0]                  \n",
      "__________________________________________________________________________________________________\n",
      "branch_0 (Sequential)           (None, 144, 16)      28848       patch_encoder[0][0]              \n",
      "__________________________________________________________________________________________________\n",
      "branch_1 (Sequential)           (None, 25, 24)       45192       concatenate[0][0]                \n",
      "__________________________________________________________________________________________________\n",
      "classifier (ClassificationTaskH (None, 38)           110390      branch_0[0][0]                   \n",
      "                                                                 branch_1[0][0]                   \n",
      "==================================================================================================\n",
      "Total params: 189,028\n",
      "Trainable params: 189,028\n",
      "Non-trainable params: 0\n",
      "__________________________________________________________________________________________________\n"
     ]
    }
   ],
   "source": [
    "# Build and compile the model.\n",
    "model = ml.models.FuT_image_timeseries_classifier(\n",
    "    image_shape=dataset_kwargs['image_shape'],\n",
    "    seq_shape=(dataset_kwargs['timeseries_reserve_offset_index'],len(dataset_kwargs['timeseries_features'])),\n",
    "    n_class=38,\n",
    "    patch_size=6,\n",
    "    image_embed_dim=16,\n",
    "    seq_embed_dim=5,\n",
    "    n_heads=8,\n",
    "    ff_dim=256,\n",
    "    dropout=0.1,\n",
    "    n_encoders=3,\n",
    "    fc_units=[],\n",
    ")\n",
    "# optimizer = keras.optimizers.Adam(learning_rate=1e-3)\n",
    "# optimizer = keras.optimizers.Adam(\n",
    "#     keras.experimental.CosineDecayRestarts(\n",
    "#         initial_learning_rate=1e-3,\n",
    "#         first_decay_steps=1000,\n",
    "#         )\n",
    "# )\n",
    "learning_rate = keras.experimental.CosineDecay(\n",
    "    initial_learning_rate=1e-3,\n",
    "    decay_steps=n_steps,\n",
    "    alpha=0.1,\n",
    ")\n",
    "# learning_rate = keras.experimental.CosineDecayRestarts(\n",
    "#     initial_learning_rate=1e-3,\n",
    "#     first_decay_steps=n_steps//3,\n",
    "#     m_mul=0.8,\n",
    "# )\n",
    "optimizer = keras.optimizers.Adam(learning_rate=learning_rate)\n",
    "metrics = ['accuracy']\n",
    "model.compile(\n",
    "    optimizer=optimizer,\n",
    "    loss='sparse_categorical_crossentropy',\n",
    "    metrics=metrics,\n",
    ")\n",
    "model.summary()"
   ]
  },
  {
   "cell_type": "code",
   "execution_count": 35,
   "metadata": {},
   "outputs": [
    {
     "data": {
      "text/plain": [
       "(<tf.Tensor: shape=(), dtype=float32, numpy=0.001>,\n",
       " <tf.Tensor: shape=(), dtype=float32, numpy=0.000100000114>)"
      ]
     },
     "execution_count": 35,
     "metadata": {},
     "output_type": "execute_result"
    },
    {
     "data": {
      "image/png": "[encoded data removed]",
      "text/plain": [
       "<Figure size 432x288 with 1 Axes>"
      ]
     },
     "metadata": {},
     "output_type": "display_data"
    }
   ],
   "source": [
    "steps = np.arange(n_steps)\n",
    "lrs = learning_rate(steps)\n",
    "plt.plot(steps, lrs)\n",
    "lrs[0],lrs[-1]"
   ]
  },
  {
   "cell_type": "code",
   "execution_count": 36,
   "metadata": {},
   "outputs": [
    {
     "name": "stdout",
     "output_type": "stream",
     "text": [
      "Epoch 1/30\n",
      "149/149 [==============================] - 105s 672ms/step - loss: 2.6541 - accuracy: 0.3157 - val_loss: 1.3890 - val_accuracy: 0.5862\n",
      "Epoch 2/30\n",
      "149/149 [==============================] - 15s 104ms/step - loss: 1.1741 - accuracy: 0.6533 - val_loss: 0.9382 - val_accuracy: 0.7103\n",
      "Epoch 3/30\n",
      "149/149 [==============================] - 15s 104ms/step - loss: 0.8141 - accuracy: 0.7555 - val_loss: 0.8173 - val_accuracy: 0.7452\n",
      "Epoch 4/30\n",
      "149/149 [==============================] - 15s 104ms/step - loss: 0.6483 - accuracy: 0.8033 - val_loss: 0.7086 - val_accuracy: 0.7794\n",
      "Epoch 5/30\n",
      "149/149 [==============================] - 15s 104ms/step - loss: 0.5100 - accuracy: 0.8407 - val_loss: 0.6954 - val_accuracy: 0.7874\n",
      "Epoch 6/30\n",
      "149/149 [==============================] - 15s 104ms/step - loss: 0.4368 - accuracy: 0.8670 - val_loss: 0.6512 - val_accuracy: 0.7966\n",
      "Epoch 7/30\n",
      "149/149 [==============================] - 15s 104ms/step - loss: 0.3627 - accuracy: 0.8907 - val_loss: 0.6013 - val_accuracy: 0.8137\n",
      "Epoch 8/30\n",
      "149/149 [==============================] - 15s 104ms/step - loss: 0.2894 - accuracy: 0.9127 - val_loss: 0.6260 - val_accuracy: 0.8089\n",
      "Epoch 9/30\n",
      "149/149 [==============================] - 15s 104ms/step - loss: 0.2557 - accuracy: 0.9225 - val_loss: 0.6491 - val_accuracy: 0.8059\n",
      "Epoch 10/30\n",
      "149/149 [==============================] - 15s 104ms/step - loss: 0.2392 - accuracy: 0.9262 - val_loss: 0.5863 - val_accuracy: 0.8247\n",
      "Epoch 11/30\n",
      "149/149 [==============================] - 15s 104ms/step - loss: 0.2005 - accuracy: 0.9397 - val_loss: 0.5786 - val_accuracy: 0.8324\n",
      "Epoch 12/30\n",
      "149/149 [==============================] - 15s 104ms/step - loss: 0.1730 - accuracy: 0.9474 - val_loss: 0.5941 - val_accuracy: 0.8287\n",
      "Epoch 13/30\n",
      "149/149 [==============================] - 16s 104ms/step - loss: 0.1608 - accuracy: 0.9505 - val_loss: 0.5682 - val_accuracy: 0.8368\n",
      "Epoch 14/30\n",
      "149/149 [==============================] - 16s 104ms/step - loss: 0.1313 - accuracy: 0.9619 - val_loss: 0.5663 - val_accuracy: 0.8388\n",
      "Epoch 15/30\n",
      "149/149 [==============================] - 15s 104ms/step - loss: 0.1176 - accuracy: 0.9676 - val_loss: 0.5491 - val_accuracy: 0.8412\n",
      "Epoch 16/30\n",
      "149/149 [==============================] - 16s 104ms/step - loss: 0.1079 - accuracy: 0.9703 - val_loss: 0.6090 - val_accuracy: 0.8342\n",
      "Epoch 17/30\n",
      "149/149 [==============================] - 16s 104ms/step - loss: 0.0924 - accuracy: 0.9738 - val_loss: 0.5784 - val_accuracy: 0.8411\n",
      "Epoch 18/30\n",
      "149/149 [==============================] - 16s 104ms/step - loss: 0.0769 - accuracy: 0.9814 - val_loss: 0.5478 - val_accuracy: 0.8472\n",
      "Epoch 19/30\n",
      "149/149 [==============================] - 16s 104ms/step - loss: 0.0653 - accuracy: 0.9847 - val_loss: 0.5380 - val_accuracy: 0.8498\n",
      "Epoch 20/30\n",
      "149/149 [==============================] - 16s 104ms/step - loss: 0.0587 - accuracy: 0.9875 - val_loss: 0.5341 - val_accuracy: 0.8525\n",
      "Epoch 21/30\n",
      "149/149 [==============================] - 16s 104ms/step - loss: 0.0492 - accuracy: 0.9907 - val_loss: 0.5535 - val_accuracy: 0.8512\n",
      "Epoch 22/30\n",
      "149/149 [==============================] - 16s 104ms/step - loss: 0.0481 - accuracy: 0.9906 - val_loss: 0.5651 - val_accuracy: 0.8458\n",
      "Epoch 23/30\n",
      "149/149 [==============================] - 16s 105ms/step - loss: 0.0437 - accuracy: 0.9911 - val_loss: 0.5477 - val_accuracy: 0.8509\n",
      "Epoch 24/30\n",
      "149/149 [==============================] - 16s 104ms/step - loss: 0.0395 - accuracy: 0.9935 - val_loss: 0.5254 - val_accuracy: 0.8577\n",
      "Epoch 25/30\n",
      "149/149 [==============================] - 16s 104ms/step - loss: 0.0335 - accuracy: 0.9958 - val_loss: 0.5256 - val_accuracy: 0.8578\n",
      "Epoch 26/30\n",
      "149/149 [==============================] - 15s 104ms/step - loss: 0.0309 - accuracy: 0.9963 - val_loss: 0.5267 - val_accuracy: 0.8599\n",
      "Epoch 27/30\n",
      "149/149 [==============================] - 15s 104ms/step - loss: 0.0297 - accuracy: 0.9965 - val_loss: 0.5276 - val_accuracy: 0.8577\n",
      "Epoch 28/30\n",
      "149/149 [==============================] - 16s 104ms/step - loss: 0.0273 - accuracy: 0.9968 - val_loss: 0.5253 - val_accuracy: 0.8599\n",
      "Epoch 29/30\n",
      "149/149 [==============================] - 15s 104ms/step - loss: 0.0263 - accuracy: 0.9976 - val_loss: 0.5236 - val_accuracy: 0.8597\n",
      "Epoch 30/30\n",
      "149/149 [==============================] - 16s 104ms/step - loss: 0.0261 - accuracy: 0.9971 - val_loss: 0.5243 - val_accuracy: 0.8601\n"
     ]
    }
   ],
   "source": [
    "# Train.\n",
    "# strategy = tf.distribute.get_strategy()\n",
    "history = model.fit(\n",
    "    dataset_train,\n",
    "    validation_data=dataset_val,\n",
    "    epochs=epochs,\n",
    "    verbose=1,\n",
    ")"
   ]
  },
  {
   "cell_type": "code",
   "execution_count": 37,
   "metadata": {},
   "outputs": [
    {
     "name": "stderr",
     "output_type": "stream",
     "text": [
      "/tmp/ipykernel_4085/2114538881.py:3: UserWarning: Matplotlib is currently using module://matplotlib_inline.backend_inline, which is a non-GUI backend, so cannot show the figure.\n",
      "  fig.show()\n"
     ]
    },
    {
     "data": {
      "image/png": "[encoded data removed]",
      "text/plain": [
       "<Figure size 432x288 with 1 Axes>"
      ]
     },
     "metadata": {},
     "output_type": "display_data"
    },
    {
     "data": {
      "image/png": "[encoded data removed]",
      "text/plain": [
       "<Figure size 432x288 with 1 Axes>"
      ]
     },
     "metadata": {},
     "output_type": "display_data"
    }
   ],
   "source": [
    "for key in ['loss']+metrics:\n",
    "    fig = ml.visualization.plot_metric(history.history, key)\n",
    "    fig.show()"
   ]
  },
  {
   "cell_type": "code",
   "execution_count": null,
   "metadata": {},
   "outputs": [],
   "source": []
  }
 ],
 "metadata": {
  "kernelspec": {
   "display_name": "Python 3.9.12 ('tf-p100')",
   "language": "python",
   "name": "python3"
  },
  "language_info": {
   "codemirror_mode": {
    "name": "ipython",
    "version": 3
   },
   "file_extension": ".py",
   "mimetype": "text/x-python",
   "name": "python",
   "nbconvert_exporter": "python",
   "pygments_lexer": "ipython3",
   "version": "3.9.12"
  },
  "orig_nbformat": 4,
  "vscode": {
   "interpreter": {
    "hash": "f9d28b892dbcf26bab028d0e176e36bb3090c4acb3765664e3f159d722d1b85e"
   }
  }
 },
 "nbformat": 4,
 "nbformat_minor": 2
}
