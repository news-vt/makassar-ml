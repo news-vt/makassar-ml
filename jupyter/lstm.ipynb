{
 "cells": [
  {
   "cell_type": "code",
   "execution_count": 31,
   "metadata": {},
   "outputs": [
    {
     "name": "stdout",
     "output_type": "stream",
     "text": [
      "The autoreload extension is already loaded. To reload it, use:\n",
      "  %reload_ext autoreload\n",
      "Num GPUs Available: 1\n",
      "Name: /physical_device:GPU:0, Type: GPU\n"
     ]
    }
   ],
   "source": [
    "%load_ext autoreload\n",
    "%autoreload 2\n",
    "\n",
    "from __future__ import annotations\n",
    "\n",
    "# Add parent directory to path.\n",
    "from pathlib import Path\n",
    "import os\n",
    "import sys\n",
    "os.environ['TF_CPP_MIN_LOG_LEVEL'] = '2' # https://stackoverflow.com/a/64438413\n",
    "fdir = Path(os.path.abspath('')).resolve() # Directory of current file.\n",
    "path = fdir/'..'\n",
    "if path not in sys.path:\n",
    "    sys.path.append(str(path))\n",
    "\n",
    "# Complete imports.\n",
    "import makassar_ml as ml\n",
    "import matplotlib.pyplot as plt\n",
    "import tensorflow as tf\n",
    "import tensorflow.keras as keras\n",
    "import tensorflow_datasets as tfds\n",
    "import seaborn as sns\n",
    "sns.set() # Use seaborn themes.\n",
    "\n",
    "# List all GPUs visible to TensorFlow.\n",
    "gpus = tf.config.list_physical_devices('GPU')\n",
    "print(f\"Num GPUs Available: {len(gpus)}\")\n",
    "for gpu in gpus:\n",
    "    print(f\"Name: {gpu.name}, Type: {gpu.device_type}\")"
   ]
  },
  {
   "cell_type": "code",
   "execution_count": 32,
   "metadata": {},
   "outputs": [],
   "source": [
    "keras.backend.clear_session()"
   ]
  },
  {
   "cell_type": "code",
   "execution_count": 33,
   "metadata": {},
   "outputs": [],
   "source": [
    "# Configure root paths.\n",
    "config = dict(\n",
    "    roots=dict(\n",
    "        hp_tuning_root=Path('~/research/makassar/hp_tuning').expanduser(),\n",
    "        image_root=Path('~/research/makassar/images').expanduser(),\n",
    "    ),\n",
    ")"
   ]
  },
  {
   "cell_type": "code",
   "execution_count": 34,
   "metadata": {},
   "outputs": [],
   "source": [
    "epochs = 30\n",
    "batch_size = 256"
   ]
  },
  {
   "cell_type": "code",
   "execution_count": 35,
   "metadata": {},
   "outputs": [],
   "source": [
    "in_feat = ['TEMP','DEWP','PRES','Iws']\n",
    "out_feat = ['pm2.5','Ir']\n",
    "in_seq_len = 24 # 1 day\n",
    "out_seq_len = 1 # 1 hour\n",
    "\n",
    "ds_train, ds_val, ds_test = ml.datasets.beijingpm25.load_data(\n",
    "    path=Path('~/research/makassar/datasets/beijing_pm25').expanduser(),\n",
    "    in_feat=in_feat,\n",
    "    out_feat=out_feat,\n",
    "    in_seq_len=in_seq_len,\n",
    "    out_seq_len=out_seq_len,\n",
    "    shift=1,\n",
    "    split=[0.7,0.2,0.1],\n",
    "    shuffle=False,\n",
    "    batch_size=batch_size,\n",
    ")\n",
    "\n",
    "ds_train = ds_train.prefetch(tf.data.AUTOTUNE).cache()\n",
    "ds_val = ds_val.prefetch(tf.data.AUTOTUNE).cache()\n",
    "ds_test = ds_test.prefetch(tf.data.AUTOTUNE).cache()"
   ]
  },
  {
   "cell_type": "code",
   "execution_count": 36,
   "metadata": {},
   "outputs": [
    {
     "name": "stdout",
     "output_type": "stream",
     "text": [
      "(256, 24, 4)\n",
      "(256, 1, 2)\n"
     ]
    }
   ],
   "source": [
    "for seq_in, seq_out in ds_train:\n",
    "    print(seq_in.shape)\n",
    "    print(seq_out.shape)\n",
    "    break"
   ]
  },
  {
   "cell_type": "code",
   "execution_count": 39,
   "metadata": {},
   "outputs": [
    {
     "ename": "AttributeError",
     "evalue": "'CacheDataset' object has no attribute 'shape'",
     "output_type": "error",
     "traceback": [
      "\u001b[0;31m---------------------------------------------------------------------------\u001b[0m",
      "\u001b[0;31mAttributeError\u001b[0m                            Traceback (most recent call last)",
      "\u001b[0;32m/tmp/ipykernel_23600/1434188311.py\u001b[0m in \u001b[0;36m<module>\u001b[0;34m\u001b[0m\n\u001b[1;32m     13\u001b[0m         \u001b[0munits\u001b[0m\u001b[0;34m=\u001b[0m\u001b[0;36m128\u001b[0m\u001b[0;34m,\u001b[0m\u001b[0;34m\u001b[0m\u001b[0;34m\u001b[0m\u001b[0m\n\u001b[1;32m     14\u001b[0m         \u001b[0mreturn_sequences\u001b[0m\u001b[0;34m=\u001b[0m\u001b[0;32mTrue\u001b[0m\u001b[0;34m,\u001b[0m\u001b[0;34m\u001b[0m\u001b[0;34m\u001b[0m\u001b[0m\n\u001b[0;32m---> 15\u001b[0;31m         \u001b[0minput_shape\u001b[0m\u001b[0;34m=\u001b[0m\u001b[0;34m(\u001b[0m\u001b[0mds_train\u001b[0m\u001b[0;34m.\u001b[0m\u001b[0mshape\u001b[0m\u001b[0;34m[\u001b[0m\u001b[0;36m1\u001b[0m\u001b[0;34m]\u001b[0m\u001b[0;34m,\u001b[0m\u001b[0mds_train\u001b[0m\u001b[0;34m.\u001b[0m\u001b[0mshape\u001b[0m\u001b[0;34m[\u001b[0m\u001b[0;36m2\u001b[0m\u001b[0;34m]\u001b[0m\u001b[0;34m)\u001b[0m\u001b[0;34m,\u001b[0m\u001b[0;34m\u001b[0m\u001b[0;34m\u001b[0m\u001b[0m\n\u001b[0m\u001b[1;32m     16\u001b[0m     )\n\u001b[1;32m     17\u001b[0m )\n",
      "\u001b[0;31mAttributeError\u001b[0m: 'CacheDataset' object has no attribute 'shape'"
     ]
    }
   ],
   "source": [
    "model = ml.models.lstm_net.build_model(\n",
    "    in_seq_len=in_seq_len,\n",
    "    in_feat=len(in_feat),\n",
    "    out_feat=len(out_feat),\n",
    "    lstm_units=[128, 64],\n",
    "    fc_units=[256, 256],\n",
    "    dropout=0.1,\n",
    ")\n",
    "\n",
    "\n",
    "optimizer = keras.optimizers.Adam(learning_rate=1e-3)\n",
    "metrics = ['mae']\n",
    "model.compile(\n",
    "    optimizer=optimizer,\n",
    "    loss='mse',\n",
    "    metrics=metrics,\n",
    ")\n",
    "model.summary()"
   ]
  },
  {
   "cell_type": "code",
   "execution_count": null,
   "metadata": {},
   "outputs": [
    {
     "name": "stdout",
     "output_type": "stream",
     "text": [
      "Epoch 1/30\n",
      "103/297 [=========>....................] - ETA: 2:23 - loss: 2.3223 - accuracy: 0.4078"
     ]
    }
   ],
   "source": [
    "model, history, metrics = ml.training.train_evaluate_model(\n",
    "    model,\n",
    "    datagen_train=ds_train,\n",
    "    datagen_val=ds_val,\n",
    "    datagen_test=ds_test,\n",
    "    epochs=epochs,\n",
    "    checkpoint_path=config['roots']['hp_tuning_root']/'lstm'/'lstm.h5',\n",
    "    history_path=config['roots']['hp_tuning_root']/'lstm'/'lstm_history.csv',\n",
    "    metrics_path=config['roots']['hp_tuning_root']/'lstm'/'lstm_metrics.json',\n",
    ")"
   ]
  },
  {
   "cell_type": "code",
   "execution_count": null,
   "metadata": {},
   "outputs": [
    {
     "name": "stdout",
     "output_type": "stream",
     "text": [
      "Epoch 1/30\n",
      "297/297 [==============================] - 294s 807ms/step - loss: 1.6595 - accuracy: 0.5582 - val_loss: 815.6634 - val_accuracy: 0.1016\n",
      "Epoch 2/30\n",
      "297/297 [==============================] - 115s 387ms/step - loss: 0.4061 - accuracy: 0.8688 - val_loss: 0.5723 - val_accuracy: 0.8353\n",
      "Epoch 3/30\n",
      "297/297 [==============================] - 115s 387ms/step - loss: 0.2160 - accuracy: 0.9306 - val_loss: 0.2851 - val_accuracy: 0.9081\n",
      "Epoch 4/30\n",
      "297/297 [==============================] - 115s 387ms/step - loss: 0.1570 - accuracy: 0.9486 - val_loss: 3.9073 - val_accuracy: 0.4665\n",
      "Epoch 5/30\n",
      "297/297 [==============================] - 115s 387ms/step - loss: 0.1432 - accuracy: 0.9515 - val_loss: 0.2236 - val_accuracy: 0.9321\n",
      "Epoch 6/30\n",
      "297/297 [==============================] - 115s 387ms/step - loss: 0.0880 - accuracy: 0.9707 - val_loss: 0.5948 - val_accuracy: 0.8498\n",
      "Epoch 7/30\n",
      "297/297 [==============================] - 115s 387ms/step - loss: 0.0832 - accuracy: 0.9715 - val_loss: 0.6520 - val_accuracy: 0.8579\n",
      "Epoch 8/30\n",
      "297/297 [==============================] - 115s 387ms/step - loss: 0.0692 - accuracy: 0.9757 - val_loss: 0.7104 - val_accuracy: 0.8202\n",
      "Epoch 9/30\n",
      "297/297 [==============================] - 115s 387ms/step - loss: 0.0602 - accuracy: 0.9805 - val_loss: 0.1953 - val_accuracy: 0.9390\n",
      "Epoch 10/30\n",
      "297/297 [==============================] - 115s 387ms/step - loss: 0.0558 - accuracy: 0.9816 - val_loss: 0.8542 - val_accuracy: 0.8140\n",
      "Epoch 11/30\n",
      "297/297 [==============================] - 115s 387ms/step - loss: 0.0401 - accuracy: 0.9860 - val_loss: 0.2637 - val_accuracy: 0.9281\n",
      "Epoch 12/30\n",
      "297/297 [==============================] - 115s 387ms/step - loss: 0.0495 - accuracy: 0.9836 - val_loss: 0.1779 - val_accuracy: 0.9533\n",
      "Epoch 13/30\n",
      "297/297 [==============================] - 115s 387ms/step - loss: 0.0532 - accuracy: 0.9828 - val_loss: 0.5219 - val_accuracy: 0.8875\n",
      "Epoch 14/30\n",
      "297/297 [==============================] - 115s 387ms/step - loss: 0.0617 - accuracy: 0.9794 - val_loss: 0.1613 - val_accuracy: 0.9549\n",
      "Epoch 15/30\n",
      "297/297 [==============================] - 115s 387ms/step - loss: 0.0344 - accuracy: 0.9889 - val_loss: 0.1786 - val_accuracy: 0.9506\n",
      "Epoch 16/30\n",
      "297/297 [==============================] - 115s 387ms/step - loss: 0.0345 - accuracy: 0.9887 - val_loss: 1.3125 - val_accuracy: 0.7880\n",
      "Epoch 17/30\n",
      "297/297 [==============================] - 115s 387ms/step - loss: 0.0462 - accuracy: 0.9845 - val_loss: 0.1505 - val_accuracy: 0.9586\n",
      "Epoch 18/30\n",
      "297/297 [==============================] - 115s 387ms/step - loss: 0.0187 - accuracy: 0.9934 - val_loss: 0.1096 - val_accuracy: 0.9696\n",
      "Epoch 19/30\n",
      "297/297 [==============================] - 115s 387ms/step - loss: 0.0267 - accuracy: 0.9913 - val_loss: 0.2719 - val_accuracy: 0.9286\n",
      "Epoch 20/30\n",
      "297/297 [==============================] - 115s 387ms/step - loss: 0.0337 - accuracy: 0.9890 - val_loss: 0.2849 - val_accuracy: 0.9302\n",
      "Epoch 21/30\n",
      "297/297 [==============================] - 115s 387ms/step - loss: 0.0229 - accuracy: 0.9926 - val_loss: 0.0701 - val_accuracy: 0.9798\n",
      "Epoch 22/30\n",
      "297/297 [==============================] - 115s 387ms/step - loss: 0.0126 - accuracy: 0.9960 - val_loss: 0.3426 - val_accuracy: 0.9212\n",
      "Epoch 23/30\n",
      "297/297 [==============================] - 115s 387ms/step - loss: 0.0386 - accuracy: 0.9869 - val_loss: 0.1294 - val_accuracy: 0.9651\n",
      "Epoch 24/30\n",
      "297/297 [==============================] - 115s 387ms/step - loss: 0.0283 - accuracy: 0.9906 - val_loss: 0.5781 - val_accuracy: 0.8762\n",
      "Epoch 25/30\n",
      "297/297 [==============================] - 115s 387ms/step - loss: 0.0242 - accuracy: 0.9919 - val_loss: 0.3190 - val_accuracy: 0.9274\n",
      "Epoch 26/30\n",
      "297/297 [==============================] - 115s 387ms/step - loss: 0.0341 - accuracy: 0.9889 - val_loss: 0.0716 - val_accuracy: 0.9798\n",
      "Epoch 27/30\n",
      "297/297 [==============================] - 115s 387ms/step - loss: 0.0112 - accuracy: 0.9966 - val_loss: 0.6284 - val_accuracy: 0.8718\n",
      "Epoch 28/30\n",
      "297/297 [==============================] - 115s 387ms/step - loss: 0.0366 - accuracy: 0.9883 - val_loss: 0.1236 - val_accuracy: 0.9690\n",
      "Epoch 29/30\n",
      "297/297 [==============================] - 115s 387ms/step - loss: 0.0110 - accuracy: 0.9965 - val_loss: 0.1551 - val_accuracy: 0.9622\n",
      "Epoch 30/30\n",
      "297/297 [==============================] - 115s 387ms/step - loss: 0.0087 - accuracy: 0.9975 - val_loss: 0.3716 - val_accuracy: 0.9237\n"
     ]
    }
   ],
   "source": [
    "# Train.\n",
    "# strategy = tf.distribute.get_strategy()\n",
    "history = model.fit(\n",
    "    ds_train,\n",
    "    validation_data=ds_val,\n",
    "    epochs=epochs,\n",
    "    verbose=1,\n",
    ")"
   ]
  },
  {
   "cell_type": "code",
   "execution_count": null,
   "metadata": {},
   "outputs": [
    {
     "name": "stdout",
     "output_type": "stream",
     "text": [
      "43/43 [==============================] - 51s 1s/step - loss: 3523.6990 - accuracy: 0.0120\n"
     ]
    }
   ],
   "source": [
    "# Evaluate the newly trained model.\n",
    "test_metrics = model.evaluate(ds_test)"
   ]
  },
  {
   "cell_type": "code",
   "execution_count": null,
   "metadata": {},
   "outputs": [],
   "source": [
    "import json\n",
    "\n",
    "# Create dictionary of metrics to return and preserve in file.\n",
    "metrics = {}\n",
    "for i, (key, val) in enumerate(history.history.items()):\n",
    "    metrics[key] = val[-1]\n",
    "    if not key.startswith('val_'):\n",
    "        metrics[f\"test_{key}\"] = test_metrics[i]\n",
    "\n",
    "# Dump metrics to JSON file.\n",
    "with open('lstm_metrics.json', 'w') as f:\n",
    "    json.dump(metrics, f)"
   ]
  },
  {
   "cell_type": "code",
   "execution_count": null,
   "metadata": {},
   "outputs": [],
   "source": [
    "# Plot train/val performance for best model.\n",
    "allmetrics = ['loss'] + metrics\n",
    "fig, ax = plt.subplots(nrows=len(allmetrics), ncols=1, figsize=(10,len(allmetrics)*3), sharex=True, constrained_layout=True)\n",
    "for j, key in enumerate(sorted(allmetrics)):\n",
    "    ax[j].plot(history[key], label=f'train', linestyle='-')\n",
    "    ax[j].plot(history[f\"val_{key}\"], label=f'val', linestyle='--')\n",
    "    ax[j].set_xlim(0, len(history[key])-1)\n",
    "    if j == len(allmetrics)-1:\n",
    "        ax[j].set_xlabel('epoch')\n",
    "    ax[j].set_ylabel(key)\n",
    "    # ax[j].legend(loc='upper left')\n",
    "\n",
    "handles, labels = ax[0].get_legend_handles_labels()\n",
    "fig.legend(handles, labels, loc='upper center', ncol=2, bbox_to_anchor=(0.5,0.0))\n",
    "path = Path(config['roots']['image_root'])/f\"lstm.png\"\n",
    "fig.savefig(path, bbox_inches='tight')\n",
    "print(path)"
   ]
  },
  {
   "cell_type": "code",
   "execution_count": null,
   "metadata": {},
   "outputs": [],
   "source": []
  }
 ],
 "metadata": {
  "kernelspec": {
   "display_name": "Python 3.9.12 ('tf-p100')",
   "language": "python",
   "name": "python3"
  },
  "language_info": {
   "codemirror_mode": {
    "name": "ipython",
    "version": 3
   },
   "file_extension": ".py",
   "mimetype": "text/x-python",
   "name": "python",
   "nbconvert_exporter": "python",
   "pygments_lexer": "ipython3",
   "version": "3.9.12"
  },
  "orig_nbformat": 4,
  "vscode": {
   "interpreter": {
    "hash": "f9d28b892dbcf26bab028d0e176e36bb3090c4acb3765664e3f159d722d1b85e"
   }
  }
 },
 "nbformat": 4,
 "nbformat_minor": 2
}
