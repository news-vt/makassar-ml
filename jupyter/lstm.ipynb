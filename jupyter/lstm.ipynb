{
 "cells": [
  {
   "cell_type": "code",
   "execution_count": 1,
   "metadata": {},
   "outputs": [
    {
     "name": "stdout",
     "output_type": "stream",
     "text": [
      "Num GPUs Available: 1\n",
      "Name: /physical_device:GPU:0, Type: GPU\n"
     ]
    }
   ],
   "source": [
    "%load_ext autoreload\n",
    "%autoreload 2\n",
    "\n",
    "from __future__ import annotations\n",
    "\n",
    "# Add parent directory to path.\n",
    "from pathlib import Path\n",
    "import os\n",
    "import sys\n",
    "os.environ['TF_CPP_MIN_LOG_LEVEL'] = '2' # https://stackoverflow.com/a/64438413\n",
    "fdir = Path(os.path.abspath('')).resolve() # Directory of current file.\n",
    "path = fdir/'..'\n",
    "if path not in sys.path:\n",
    "    sys.path.append(str(path))\n",
    "\n",
    "# Complete imports.\n",
    "import makassar_ml as ml\n",
    "import matplotlib.pyplot as plt\n",
    "import tensorflow as tf\n",
    "import tensorflow.keras as keras\n",
    "import tensorflow_datasets as tfds\n",
    "import seaborn as sns\n",
    "sns.set() # Use seaborn themes.\n",
    "\n",
    "# List all GPUs visible to TensorFlow.\n",
    "gpus = tf.config.list_physical_devices('GPU')\n",
    "print(f\"Num GPUs Available: {len(gpus)}\")\n",
    "for gpu in gpus:\n",
    "    print(f\"Name: {gpu.name}, Type: {gpu.device_type}\")"
   ]
  },
  {
   "cell_type": "code",
   "execution_count": 2,
   "metadata": {},
   "outputs": [],
   "source": [
    "keras.backend.clear_session()"
   ]
  },
  {
   "cell_type": "code",
   "execution_count": 3,
   "metadata": {},
   "outputs": [],
   "source": [
    "# Configure root paths.\n",
    "config = dict(\n",
    "    roots=dict(\n",
    "        hp_tuning_root=Path('~/research/makassar/hp_tuning').expanduser(),\n",
    "        image_root=Path('~/research/makassar/images').expanduser(),\n",
    "    ),\n",
    ")"
   ]
  },
  {
   "cell_type": "code",
   "execution_count": 60,
   "metadata": {},
   "outputs": [],
   "source": [
    "epochs = 30\n",
    "batch_size = 256"
   ]
  },
  {
   "cell_type": "code",
   "execution_count": 61,
   "metadata": {},
   "outputs": [],
   "source": [
    "in_feat = ['TEMP','DEWP','PRES','Iws']\n",
    "out_feat = ['pm2.5','Ir']\n",
    "in_seq_len = 24 # 1 day\n",
    "out_seq_len = 1 # 1 hour\n",
    "\n",
    "ds_train, ds_val, ds_test = ml.datasets.beijingpm25.load_data(\n",
    "    path=Path('~/research/makassar/datasets/beijing_pm25').expanduser(),\n",
    "    in_feat=in_feat,\n",
    "    out_feat=out_feat,\n",
    "    in_seq_len=in_seq_len,\n",
    "    out_seq_len=out_seq_len,\n",
    "    shift=1,\n",
    "    split=[0.7,0.2,0.1],\n",
    "    shuffle=False,\n",
    "    batch_size=batch_size,\n",
    ")\n",
    "\n",
    "ds_train = ds_train.prefetch(tf.data.AUTOTUNE).cache()\n",
    "ds_val = ds_val.prefetch(tf.data.AUTOTUNE).cache()\n",
    "ds_test = ds_test.prefetch(tf.data.AUTOTUNE).cache()"
   ]
  },
  {
   "cell_type": "code",
   "execution_count": 62,
   "metadata": {},
   "outputs": [
    {
     "name": "stdout",
     "output_type": "stream",
     "text": [
      "Model: \"model\"\n",
      "_________________________________________________________________\n",
      "Layer (type)                 Output Shape              Param #   \n",
      "=================================================================\n",
      "input_1 (InputLayer)         [(None, 24, 4)]           0         \n",
      "_________________________________________________________________\n",
      "lstm (LSTM)                  (None, 24, 1024)          4214784   \n",
      "_________________________________________________________________\n",
      "lstm_1 (LSTM)                (None, 24, 512)           3147776   \n",
      "_________________________________________________________________\n",
      "lstm_2 (LSTM)                (None, 256)               787456    \n",
      "_________________________________________________________________\n",
      "dense (Dense)                (None, 128)               32896     \n",
      "_________________________________________________________________\n",
      "dropout (Dropout)            (None, 128)               0         \n",
      "_________________________________________________________________\n",
      "dense_1 (Dense)              (None, 64)                8256      \n",
      "_________________________________________________________________\n",
      "dropout_1 (Dropout)          (None, 64)                0         \n",
      "_________________________________________________________________\n",
      "dense_2 (Dense)              (None, 2)                 130       \n",
      "=================================================================\n",
      "Total params: 8,191,298\n",
      "Trainable params: 8,191,298\n",
      "Non-trainable params: 0\n",
      "_________________________________________________________________\n"
     ]
    }
   ],
   "source": [
    "model = ml.models.lstm_net.build_model(\n",
    "    in_seq_len=in_seq_len,\n",
    "    in_feat=len(in_feat),\n",
    "    out_feat=len(out_feat),\n",
    "    # lstm_units=[1024, 512, 256, 128, 64, 32],\n",
    "    lstm_units=[1024, 512, 256],\n",
    "    # lstm_units=[128, 64, 32],\n",
    "    fc_units=[128, 64],\n",
    "    dropout=0.1,\n",
    ")\n",
    "\n",
    "\n",
    "optimizer = keras.optimizers.Adam(learning_rate=1e-2)\n",
    "metrics = ['mae']\n",
    "model.compile(\n",
    "    optimizer=optimizer,\n",
    "    loss='mse',\n",
    "    metrics=metrics,\n",
    ")\n",
    "model.summary()"
   ]
  },
  {
   "cell_type": "code",
   "execution_count": 63,
   "metadata": {},
   "outputs": [
    {
     "name": "stdout",
     "output_type": "stream",
     "text": [
      "Epoch 1/30\n",
      "115/115 [==============================] - 7s 43ms/step - loss: 34.7843 - mae: 1.8881 - val_loss: 0.8652 - val_mae: 0.5001\n",
      "Epoch 2/30\n",
      "115/115 [==============================] - 4s 37ms/step - loss: 1.8727 - mae: 0.7661 - val_loss: 0.8751 - val_mae: 0.5488\n",
      "Epoch 3/30\n",
      "115/115 [==============================] - 4s 37ms/step - loss: 1.6976 - mae: 0.6455 - val_loss: 0.8915 - val_mae: 0.5509\n",
      "Epoch 4/30\n",
      "115/115 [==============================] - 4s 37ms/step - loss: 1.6872 - mae: 0.6277 - val_loss: 0.8790 - val_mae: 0.5611\n",
      "Epoch 5/30\n",
      "115/115 [==============================] - 4s 37ms/step - loss: 1.6422 - mae: 0.6045 - val_loss: 0.8852 - val_mae: 0.5125\n",
      "Epoch 6/30\n",
      "115/115 [==============================] - 4s 37ms/step - loss: 1.6574 - mae: 0.5737 - val_loss: 0.8691 - val_mae: 0.4698\n",
      "Epoch 7/30\n",
      "115/115 [==============================] - 4s 37ms/step - loss: 1.6410 - mae: 0.5523 - val_loss: 0.8724 - val_mae: 0.4829\n",
      "Epoch 8/30\n",
      "115/115 [==============================] - 4s 37ms/step - loss: 1.6498 - mae: 0.5739 - val_loss: 0.8648 - val_mae: 0.4693\n",
      "Epoch 9/30\n",
      "115/115 [==============================] - 4s 37ms/step - loss: 1.6389 - mae: 0.5569 - val_loss: 0.8734 - val_mae: 0.5019\n",
      "Epoch 10/30\n",
      "115/115 [==============================] - 4s 37ms/step - loss: 1.6482 - mae: 0.5660 - val_loss: 0.8656 - val_mae: 0.4599\n",
      "Epoch 11/30\n",
      "115/115 [==============================] - 4s 37ms/step - loss: 1.6391 - mae: 0.5519 - val_loss: 0.8740 - val_mae: 0.4967\n",
      "Epoch 12/30\n",
      "115/115 [==============================] - 4s 37ms/step - loss: 1.6461 - mae: 0.5659 - val_loss: 0.8661 - val_mae: 0.4639\n",
      "Epoch 13/30\n",
      "115/115 [==============================] - 4s 37ms/step - loss: 1.6404 - mae: 0.5620 - val_loss: 0.8703 - val_mae: 0.4879\n",
      "Epoch 14/30\n",
      "115/115 [==============================] - 4s 37ms/step - loss: 1.6463 - mae: 0.5665 - val_loss: 0.8693 - val_mae: 0.4628\n",
      "Epoch 15/30\n",
      "115/115 [==============================] - 4s 37ms/step - loss: 1.6448 - mae: 0.5609 - val_loss: 0.8712 - val_mae: 0.4841\n",
      "Epoch 16/30\n",
      "115/115 [==============================] - 4s 37ms/step - loss: 1.6494 - mae: 0.5684 - val_loss: 0.8672 - val_mae: 0.4737\n",
      "Epoch 17/30\n",
      "115/115 [==============================] - 4s 37ms/step - loss: 1.6474 - mae: 0.5641 - val_loss: 0.8663 - val_mae: 0.4678\n",
      "Epoch 18/30\n",
      "115/115 [==============================] - 4s 37ms/step - loss: 1.6409 - mae: 0.5545 - val_loss: 0.8648 - val_mae: 0.4563\n",
      "Epoch 19/30\n",
      "115/115 [==============================] - 4s 37ms/step - loss: 1.6428 - mae: 0.5565 - val_loss: 0.8668 - val_mae: 0.4609\n",
      "Epoch 20/30\n",
      "115/115 [==============================] - 4s 37ms/step - loss: 1.6462 - mae: 0.5834 - val_loss: 0.8760 - val_mae: 0.5109\n",
      "Epoch 21/30\n",
      "115/115 [==============================] - 4s 37ms/step - loss: 1.6496 - mae: 0.5714 - val_loss: 0.8676 - val_mae: 0.4763\n",
      "Epoch 22/30\n",
      "115/115 [==============================] - 4s 37ms/step - loss: 1.6452 - mae: 0.5673 - val_loss: 0.8645 - val_mae: 0.4910\n",
      "Epoch 23/30\n",
      "115/115 [==============================] - 4s 37ms/step - loss: 1.6326 - mae: 0.5539 - val_loss: 0.8646 - val_mae: 0.4949\n",
      "Epoch 24/30\n",
      "115/115 [==============================] - 4s 37ms/step - loss: 1.6342 - mae: 0.5582 - val_loss: 0.8650 - val_mae: 0.4650\n",
      "Epoch 25/30\n",
      "115/115 [==============================] - 4s 37ms/step - loss: 1.6428 - mae: 0.5674 - val_loss: 0.8678 - val_mae: 0.4779\n",
      "Epoch 26/30\n",
      "115/115 [==============================] - 4s 37ms/step - loss: 1.6431 - mae: 0.5539 - val_loss: 0.8684 - val_mae: 0.4680\n",
      "Epoch 27/30\n",
      "115/115 [==============================] - 4s 37ms/step - loss: 1.6431 - mae: 0.5702 - val_loss: 0.8679 - val_mae: 0.4734\n",
      "Epoch 28/30\n",
      "115/115 [==============================] - 4s 37ms/step - loss: 1.6443 - mae: 0.5623 - val_loss: 0.8656 - val_mae: 0.4617\n",
      "Epoch 29/30\n",
      "115/115 [==============================] - 4s 37ms/step - loss: 1.6440 - mae: 0.5723 - val_loss: 0.8659 - val_mae: 0.4954\n",
      "Epoch 30/30\n",
      "115/115 [==============================] - 4s 37ms/step - loss: 1.6409 - mae: 0.5742 - val_loss: 0.8728 - val_mae: 0.4957\n",
      "17/17 [==============================] - 0s 12ms/step - loss: 0.5045 - mae: 0.4746\n"
     ]
    }
   ],
   "source": [
    "model, history, metrics = ml.training.train_evaluate_model(\n",
    "    model,\n",
    "    datagen_train=ds_train,\n",
    "    datagen_val=ds_val,\n",
    "    datagen_test=ds_test,\n",
    "    epochs=epochs,\n",
    "    checkpoint_path=config['roots']['hp_tuning_root']/'lstm'/'lstm.h5',\n",
    "    history_path=config['roots']['hp_tuning_root']/'lstm'/'lstm_history.csv',\n",
    "    metrics_path=config['roots']['hp_tuning_root']/'lstm'/'lstm_metrics.json',\n",
    ")"
   ]
  },
  {
   "cell_type": "code",
   "execution_count": 4,
   "metadata": {},
   "outputs": [
    {
     "name": "stdout",
     "output_type": "stream",
     "text": [
      "/home/acd1797/research/makassar/images/lstm.png\n"
     ]
    },
    {
     "data": {
      "image/png": "[encoded data removed]",
      "text/plain": [
       "<Figure size 720x432 with 2 Axes>"
      ]
     },
     "metadata": {},
     "output_type": "display_data"
    }
   ],
   "source": [
    "# Load history from file.\n",
    "history = ml.training.load_history(config['roots']['hp_tuning_root']/'lstm'/'lstm_history.csv')\n",
    "\n",
    "# Plot train/val performance for best model.\n",
    "allmetrics = ['loss', 'mae']\n",
    "fig, ax = plt.subplots(nrows=len(allmetrics), ncols=1, figsize=(10,len(allmetrics)*3), sharex=True, constrained_layout=True)\n",
    "for j, key in enumerate(sorted(allmetrics)):\n",
    "    ax[j].plot(history[key], label=f'train', linestyle='-')\n",
    "    ax[j].plot(history[f\"val_{key}\"], label=f'val', linestyle='--')\n",
    "    ax[j].set_xlim(0, len(history[key])-1)\n",
    "    if j == len(allmetrics)-1:\n",
    "        ax[j].set_xlabel('Epoch', fontsize='large')\n",
    "\n",
    "    if key == 'loss':\n",
    "        ax[j].set_ylabel(key.capitalize(), fontsize='large')\n",
    "    else:\n",
    "        ax[j].set_ylabel(key.upper(), fontsize='large')\n",
    "    # ax[j].legend(loc='upper left')\n",
    "\n",
    "handles, labels = ax[0].get_legend_handles_labels()\n",
    "fig.legend(handles, labels, loc='upper center', ncol=2, bbox_to_anchor=(0.5,0.0))\n",
    "path = Path(config['roots']['image_root'])/f\"lstm.png\"\n",
    "fig.savefig(path, bbox_inches='tight')\n",
    "print(path)"
   ]
  },
  {
   "cell_type": "code",
   "execution_count": null,
   "metadata": {},
   "outputs": [],
   "source": []
  }
 ],
 "metadata": {
  "kernelspec": {
   "display_name": "Python 3.9.7 ('tf-v100')",
   "language": "python",
   "name": "python3"
  },
  "language_info": {
   "codemirror_mode": {
    "name": "ipython",
    "version": 3
   },
   "file_extension": ".py",
   "mimetype": "text/x-python",
   "name": "python",
   "nbconvert_exporter": "python",
   "pygments_lexer": "ipython3",
   "version": "3.9.7"
  },
  "orig_nbformat": 4,
  "vscode": {
   "interpreter": {
    "hash": "c66c94cd6e4ada2c835980530af600385eae6a6d9dbc82112d4b5e40d28ff647"
   }
  }
 },
 "nbformat": 4,
 "nbformat_minor": 2
}
